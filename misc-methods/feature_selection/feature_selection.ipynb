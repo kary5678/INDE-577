{
 "cells": [
  {
   "attachments": {},
   "cell_type": "markdown",
   "metadata": {},
   "source": [
    "# Feature Selection\n",
    "\n",
    "This notebook implements ways to perform feature selection, a process of selecting a subset of the original features in a dataset to use in a machine learning model. The goal of feature selection is to improve model performance by reducing the number of irrelevant, redundant, or noisy features in the data.\n",
    "\n",
    "---\n",
    "\n",
    "First, load the relevant libraries needed."
   ]
  },
  {
   "cell_type": "code",
   "execution_count": 1,
   "metadata": {},
   "outputs": [],
   "source": [
    "import matplotlib.pyplot as plt\n",
    "import numpy as np\n",
    "import pandas as pd\n",
    "import seaborn as sns\n",
    "\n",
    "# Set the Seaborn theme\n",
    "sns.set_theme()\n",
    "from matplotlib.colors import ListedColormap\n",
    "\n",
    "# Import functions for feature selection\n",
    "from sklearn.ensemble import RandomForestClassifier\n",
    "from sklearn.feature_selection import SelectFromModel\n",
    "from sklearn.preprocessing import StandardScaler\n",
    "from sklearn.decomposition import PCA"
   ]
  },
  {
   "attachments": {},
   "cell_type": "markdown",
   "metadata": {},
   "source": [
    "## The Data\n",
    "\n",
    "Theese algorithms will be implemented using the [Hawks](https://github.com/kary5678/INDE-577/blob/main/Data/hawks.csv) dataset. This dataset contains observations for three species of hawks, and attributes such as age, sex, wing length, body weight, tail length, etc. \n",
    "\n",
    "The code block below reads the dataset into a pandas DataFrame object, subsets the DataFrame to the relevant variables, and drops any rows where there are missing values for these relevant variables."
   ]
  },
  {
   "cell_type": "code",
   "execution_count": 2,
   "metadata": {},
   "outputs": [
    {
     "data": {
      "text/html": [
       "<div>\n",
       "<style scoped>\n",
       "    .dataframe tbody tr th:only-of-type {\n",
       "        vertical-align: middle;\n",
       "    }\n",
       "\n",
       "    .dataframe tbody tr th {\n",
       "        vertical-align: top;\n",
       "    }\n",
       "\n",
       "    .dataframe thead th {\n",
       "        text-align: right;\n",
       "    }\n",
       "</style>\n",
       "<table border=\"1\" class=\"dataframe\">\n",
       "  <thead>\n",
       "    <tr style=\"text-align: right;\">\n",
       "      <th></th>\n",
       "      <th>Species</th>\n",
       "      <th>Wing</th>\n",
       "      <th>Tail</th>\n",
       "      <th>Weight</th>\n",
       "      <th>Culmen</th>\n",
       "      <th>Hallux</th>\n",
       "    </tr>\n",
       "  </thead>\n",
       "  <tbody>\n",
       "    <tr>\n",
       "      <th>0</th>\n",
       "      <td>RT</td>\n",
       "      <td>385.0</td>\n",
       "      <td>219</td>\n",
       "      <td>920.0</td>\n",
       "      <td>25.7</td>\n",
       "      <td>30.1</td>\n",
       "    </tr>\n",
       "    <tr>\n",
       "      <th>2</th>\n",
       "      <td>RT</td>\n",
       "      <td>381.0</td>\n",
       "      <td>235</td>\n",
       "      <td>990.0</td>\n",
       "      <td>26.7</td>\n",
       "      <td>31.3</td>\n",
       "    </tr>\n",
       "    <tr>\n",
       "      <th>3</th>\n",
       "      <td>CH</td>\n",
       "      <td>265.0</td>\n",
       "      <td>220</td>\n",
       "      <td>470.0</td>\n",
       "      <td>18.7</td>\n",
       "      <td>23.5</td>\n",
       "    </tr>\n",
       "    <tr>\n",
       "      <th>4</th>\n",
       "      <td>SS</td>\n",
       "      <td>205.0</td>\n",
       "      <td>157</td>\n",
       "      <td>170.0</td>\n",
       "      <td>12.5</td>\n",
       "      <td>14.3</td>\n",
       "    </tr>\n",
       "    <tr>\n",
       "      <th>5</th>\n",
       "      <td>RT</td>\n",
       "      <td>412.0</td>\n",
       "      <td>230</td>\n",
       "      <td>1090.0</td>\n",
       "      <td>28.5</td>\n",
       "      <td>32.2</td>\n",
       "    </tr>\n",
       "    <tr>\n",
       "      <th>...</th>\n",
       "      <td>...</td>\n",
       "      <td>...</td>\n",
       "      <td>...</td>\n",
       "      <td>...</td>\n",
       "      <td>...</td>\n",
       "      <td>...</td>\n",
       "    </tr>\n",
       "    <tr>\n",
       "      <th>903</th>\n",
       "      <td>RT</td>\n",
       "      <td>380.0</td>\n",
       "      <td>224</td>\n",
       "      <td>1525.0</td>\n",
       "      <td>26.0</td>\n",
       "      <td>27.6</td>\n",
       "    </tr>\n",
       "    <tr>\n",
       "      <th>904</th>\n",
       "      <td>SS</td>\n",
       "      <td>190.0</td>\n",
       "      <td>150</td>\n",
       "      <td>175.0</td>\n",
       "      <td>12.7</td>\n",
       "      <td>15.4</td>\n",
       "    </tr>\n",
       "    <tr>\n",
       "      <th>905</th>\n",
       "      <td>RT</td>\n",
       "      <td>360.0</td>\n",
       "      <td>211</td>\n",
       "      <td>790.0</td>\n",
       "      <td>21.9</td>\n",
       "      <td>27.6</td>\n",
       "    </tr>\n",
       "    <tr>\n",
       "      <th>906</th>\n",
       "      <td>RT</td>\n",
       "      <td>369.0</td>\n",
       "      <td>207</td>\n",
       "      <td>860.0</td>\n",
       "      <td>25.2</td>\n",
       "      <td>28.0</td>\n",
       "    </tr>\n",
       "    <tr>\n",
       "      <th>907</th>\n",
       "      <td>RT</td>\n",
       "      <td>199.0</td>\n",
       "      <td>222</td>\n",
       "      <td>1290.0</td>\n",
       "      <td>28.7</td>\n",
       "      <td>32.1</td>\n",
       "    </tr>\n",
       "  </tbody>\n",
       "</table>\n",
       "<p>891 rows × 6 columns</p>\n",
       "</div>"
      ],
      "text/plain": [
       "    Species   Wing  Tail  Weight  Culmen  Hallux\n",
       "0        RT  385.0   219   920.0    25.7    30.1\n",
       "2        RT  381.0   235   990.0    26.7    31.3\n",
       "3        CH  265.0   220   470.0    18.7    23.5\n",
       "4        SS  205.0   157   170.0    12.5    14.3\n",
       "5        RT  412.0   230  1090.0    28.5    32.2\n",
       "..      ...    ...   ...     ...     ...     ...\n",
       "903      RT  380.0   224  1525.0    26.0    27.6\n",
       "904      SS  190.0   150   175.0    12.7    15.4\n",
       "905      RT  360.0   211   790.0    21.9    27.6\n",
       "906      RT  369.0   207   860.0    25.2    28.0\n",
       "907      RT  199.0   222  1290.0    28.7    32.1\n",
       "\n",
       "[891 rows x 6 columns]"
      ]
     },
     "execution_count": 2,
     "metadata": {},
     "output_type": "execute_result"
    }
   ],
   "source": [
    "# Read in the data and subset it to the relevant columns/observations\n",
    "hawks = pd.read_csv(\"../../Data/hawks.csv\")\n",
    "hawks = hawks[[\"Species\", \"Wing\", \"Tail\", \"Weight\", \"Culmen\", \"Hallux\"]].dropna(axis=0)\n",
    "hawks"
   ]
  },
  {
   "attachments": {},
   "cell_type": "markdown",
   "metadata": {},
   "source": [
    "Since I'm going to be performing feature selection, I will consider all predictors of species as features."
   ]
  },
  {
   "cell_type": "code",
   "execution_count": 3,
   "metadata": {},
   "outputs": [],
   "source": [
    "# Data preparation step\n",
    "X = hawks[[\"Wing\", \"Tail\", \"Weight\", \"Culmen\", \"Hallux\"]]\n",
    "y = hawks[\"Species\"]"
   ]
  },
  {
   "attachments": {},
   "cell_type": "markdown",
   "metadata": {},
   "source": [
    "## Feature selection with RandomForestClassifier\n",
    "\n",
    "Rrandom forests or decision trees can be used for feature selection by measuring the importance of each feature in the algorithm. I will look at the importance of each feature in my data and determine which aren't necessary to keep. Note that I implement this in depth in my [random forest notebook](https://github.com/kary5678/INDE-577/blob/main/supervised-learning/ensemble_methods/random_forests/random_forests.ipynb).\n",
    "\n",
    "\n",
    "Here's a quick rundown of the steps to perform feature selection with `RandomForestClassifier`:"
   ]
  },
  {
   "cell_type": "code",
   "execution_count": 4,
   "metadata": {},
   "outputs": [
    {
     "name": "stdout",
     "output_type": "stream",
     "text": [
      "0.196 - Wing\n",
      "0.076 - Tail\n",
      "0.247 - Weight\n",
      "0.315 - Culmen\n",
      "0.166 - Hallux\n"
     ]
    }
   ],
   "source": [
    "forest_model = RandomForestClassifier(\n",
    "    max_depth = 3, n_estimators = 500, bootstrap = True, n_jobs = -1, random_state = 42)\n",
    "forest_model.fit(X, y)\n",
    "\n",
    "# Output each feature's importance\n",
    "for ft, imp in zip(X.columns, forest_model.feature_importances_):\n",
    "    print(f\"{abs(imp):.3f} - {ft}\")"
   ]
  },
  {
   "attachments": {},
   "cell_type": "markdown",
   "metadata": {},
   "source": [
    "Tail length is obviously not an important feature. Culmen and weight have the highest feature importance, followed by wing and hallux length. Based on `SelectFromModel`, only culmen and weight are selected as important features."
   ]
  },
  {
   "cell_type": "code",
   "execution_count": 5,
   "metadata": {},
   "outputs": [
    {
     "name": "stdout",
     "output_type": "stream",
     "text": [
      "Keeping: ['Weight', 'Culmen']\n",
      "Dropping: ['Wing', 'Tail', 'Hallux']\n"
     ]
    }
   ],
   "source": [
    "trimmed_model = SelectFromModel(forest_model, prefit=True)\n",
    "cols_keep = list(X.columns[trimmed_model.get_support()])\n",
    "cols_drop = list(X.columns[~trimmed_model.get_support()])\n",
    "print(\"Keeping:\", cols_keep)\n",
    "print(\"Dropping:\", cols_drop)"
   ]
  },
  {
   "attachments": {},
   "cell_type": "markdown",
   "metadata": {},
   "source": [
    "## PCA: Principal Component Analysis\n",
    "\n",
    "PCA is an unsupervised learning method for dimensionality reduction. It can reduce my five-dimensional data down to two dimensions for visualization. I implement PCA in depth in my PCA [subdirectory](https://github.com/kary5678/INDE-577/tree/main/unsupervised-learning/pca).\n",
    "\n",
    "Here's a quick rundown of the steps to implement PCA:"
   ]
  },
  {
   "cell_type": "code",
   "execution_count": 6,
   "metadata": {},
   "outputs": [
    {
     "name": "stdout",
     "output_type": "stream",
     "text": [
      "[0.80269141 0.15100066]\n"
     ]
    }
   ],
   "source": [
    "# Standardize the data\n",
    "scaler = StandardScaler()\n",
    "X_scaled = scaler.fit_transform(X)\n",
    "\n",
    "# Create a PCA object with the desired number of components\n",
    "pca = PCA(n_components=2)\n",
    "\n",
    "# Fit the PCA object to the scaled data\n",
    "pca.fit(X_scaled)\n",
    "\n",
    "# Print the explained variance ratio of each principal component\n",
    "print(pca.explained_variance_ratio_)"
   ]
  },
  {
   "attachments": {},
   "cell_type": "markdown",
   "metadata": {},
   "source": [
    "By using the weights below, the original 5D dataset is able to be reduced down to a 2D feature set."
   ]
  },
  {
   "cell_type": "code",
   "execution_count": 7,
   "metadata": {},
   "outputs": [
    {
     "data": {
      "text/plain": [
       "array([[ 0.4842003 ,  0.46992847,  0.48030932,  0.48868016,  0.274248  ],\n",
       "       [-0.13690084, -0.14333054, -0.13545933, -0.13303371,  0.96159623]])"
      ]
     },
     "execution_count": 7,
     "metadata": {},
     "output_type": "execute_result"
    }
   ],
   "source": [
    "pca.components_"
   ]
  },
  {
   "attachments": {},
   "cell_type": "markdown",
   "metadata": {},
   "source": [
    "Each row corresponds to a principal component, and the columns correspond to the original features in the dataset. The values in each row indicate the weight or importance of each feature in that component.\n",
    "\n",
    "In other words, the larger the absolute value of a weight in a principal component, the more that feature contributes to that component. Higher values in pca.components_ can indicate more important variables, but it's important to note that the sign of the weight matters as well. Furthermore, the weights in pca.components_ are normalized, so they represent the direction of maximum variance in the data rather than the absolute importance of each feature."
   ]
  },
  {
   "cell_type": "code",
   "execution_count": 8,
   "metadata": {},
   "outputs": [
    {
     "data": {
      "text/plain": [
       "(891, 2)"
      ]
     },
     "execution_count": 8,
     "metadata": {},
     "output_type": "execute_result"
    }
   ],
   "source": [
    "# Transform the data to its principal components\n",
    "X_transformed = pca.transform(X_scaled)\n",
    "X_transformed.shape"
   ]
  },
  {
   "attachments": {},
   "cell_type": "markdown",
   "metadata": {},
   "source": [
    "From the 5D feature set, we are now at a 2D feature set.\n",
    "\n",
    "What does this look like with respect to the species in the data?"
   ]
  },
  {
   "cell_type": "code",
   "execution_count": 9,
   "metadata": {},
   "outputs": [
    {
     "data": {
      "image/png": "[encoded data removed]",
      "text/plain": [
       "<Figure size 640x480 with 1 Axes>"
      ]
     },
     "metadata": {},
     "output_type": "display_data"
    }
   ],
   "source": [
    "# Create a scatter plot using the first two principal components\n",
    "species_colors = {\"RT\": 0, \"CH\": 1, \"SS\": 2}\n",
    "colors = [\"red\", \"gold\", \"blue\"]\n",
    "cmap = ListedColormap(colors)\n",
    "\n",
    "scatter = plt.scatter(X_transformed[:,0], X_transformed[:,1], c = [species_colors[hawk] for hawk in y], cmap = cmap)\n",
    "plt.legend(handles = scatter.legend_elements()[0], labels=[\"Red-tailed\", \"Cooper's\", \"Sharp-shinned\"])\n",
    "plt.xlabel(\"PC1\")\n",
    "plt.ylabel(\"PC2\")\n",
    "plt.show()"
   ]
  },
  {
   "attachments": {},
   "cell_type": "markdown",
   "metadata": {},
   "source": [
    "As we've reduced the 5 predictor feature set down to a 2-dimensional space, fitted models will become less complex!"
   ]
  },
  {
   "attachments": {},
   "cell_type": "markdown",
   "metadata": {},
   "source": [
    "## Summary\n",
    "\n",
    "Feature selection is an important step in preparing data for machine learning. It can improve model performance, reduce complexity, and increase interpretability, while also making the model more efficient and easier to work with. In the above two examples, I went from a five-dimensional predictor set to a two-dimensional one that is still representative of the trends in the data, meaning that model performance is maintained while model complexity drastically decreases."
   ]
  }
 ],
 "metadata": {
  "kernelspec": {
   "display_name": "base",
   "language": "python",
   "name": "python3"
  },
  "language_info": {
   "codemirror_mode": {
    "name": "ipython",
    "version": 3
   },
   "file_extension": ".py",
   "mimetype": "text/x-python",
   "name": "python",
   "nbconvert_exporter": "python",
   "pygments_lexer": "ipython3",
   "version": "3.9.13"
  },
  "orig_nbformat": 4
 },
 "nbformat": 4,
 "nbformat_minor": 2
}
