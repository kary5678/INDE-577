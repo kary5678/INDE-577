{
 "cells": [
  {
   "attachments": {},
   "cell_type": "markdown",
   "metadata": {},
   "source": [
    "# *k*-Nearest Neighbors\n",
    "\n",
    "This notebook implements k-nearest neighbors, which is a nonparametric machine learning algorithm. Abbreviated as knn, the algorithm is based on the idea that similar data points are grouped together and close in proximity.\n",
    "\n",
    "---\n",
    "\n",
    "First, load the relevant libraries needed."
   ]
  },
  {
   "cell_type": "code",
   "execution_count": 1,
   "metadata": {},
   "outputs": [],
   "source": [
    "import matplotlib.pyplot as plt\n",
    "import numpy as np\n",
    "import pandas as pd\n",
    "import seaborn as sns\n",
    "\n",
    "# Import a nice function for plotting decision boundaries\n",
    "from mlxtend.plotting import plot_decision_regions\n",
    "\n",
    "# Set the Seaborn theme\n",
    "sns.set_theme()\n",
    "\n",
    "# Import functions from scikit-learn to help with training/testing endeavors\n",
    "from sklearn.model_selection import train_test_split"
   ]
  },
  {
   "attachments": {},
   "cell_type": "markdown",
   "metadata": {},
   "source": [
    "### The Data\n",
    "\n",
    "The model will be trained using the [Hawks](https://r-data.pmagunia.com/dataset/r-dataset-package-stat2data-hawks) dataset. This dataset contains observations for three species of hawks, and attributes such as age, sex, wing length, body weight, tail length, etc. \n",
    "\n",
    "The code block below reads the dataset into a pandas DataFrame object, subsets the DataFrame to the relevant variables, and drops any rows where there are missing values for these relevant variables."
   ]
  },
  {
   "cell_type": "code",
   "execution_count": 2,
   "metadata": {},
   "outputs": [
    {
     "data": {
      "text/html": [
       "<div>\n",
       "<style scoped>\n",
       "    .dataframe tbody tr th:only-of-type {\n",
       "        vertical-align: middle;\n",
       "    }\n",
       "\n",
       "    .dataframe tbody tr th {\n",
       "        vertical-align: top;\n",
       "    }\n",
       "\n",
       "    .dataframe thead th {\n",
       "        text-align: right;\n",
       "    }\n",
       "</style>\n",
       "<table border=\"1\" class=\"dataframe\">\n",
       "  <thead>\n",
       "    <tr style=\"text-align: right;\">\n",
       "      <th></th>\n",
       "      <th>Species</th>\n",
       "      <th>Wing</th>\n",
       "      <th>Tail</th>\n",
       "    </tr>\n",
       "  </thead>\n",
       "  <tbody>\n",
       "    <tr>\n",
       "      <th>0</th>\n",
       "      <td>RT</td>\n",
       "      <td>385.0</td>\n",
       "      <td>219</td>\n",
       "    </tr>\n",
       "    <tr>\n",
       "      <th>1</th>\n",
       "      <td>RT</td>\n",
       "      <td>376.0</td>\n",
       "      <td>221</td>\n",
       "    </tr>\n",
       "    <tr>\n",
       "      <th>2</th>\n",
       "      <td>RT</td>\n",
       "      <td>381.0</td>\n",
       "      <td>235</td>\n",
       "    </tr>\n",
       "    <tr>\n",
       "      <th>3</th>\n",
       "      <td>CH</td>\n",
       "      <td>265.0</td>\n",
       "      <td>220</td>\n",
       "    </tr>\n",
       "    <tr>\n",
       "      <th>4</th>\n",
       "      <td>SS</td>\n",
       "      <td>205.0</td>\n",
       "      <td>157</td>\n",
       "    </tr>\n",
       "    <tr>\n",
       "      <th>...</th>\n",
       "      <td>...</td>\n",
       "      <td>...</td>\n",
       "      <td>...</td>\n",
       "    </tr>\n",
       "    <tr>\n",
       "      <th>903</th>\n",
       "      <td>RT</td>\n",
       "      <td>380.0</td>\n",
       "      <td>224</td>\n",
       "    </tr>\n",
       "    <tr>\n",
       "      <th>904</th>\n",
       "      <td>SS</td>\n",
       "      <td>190.0</td>\n",
       "      <td>150</td>\n",
       "    </tr>\n",
       "    <tr>\n",
       "      <th>905</th>\n",
       "      <td>RT</td>\n",
       "      <td>360.0</td>\n",
       "      <td>211</td>\n",
       "    </tr>\n",
       "    <tr>\n",
       "      <th>906</th>\n",
       "      <td>RT</td>\n",
       "      <td>369.0</td>\n",
       "      <td>207</td>\n",
       "    </tr>\n",
       "    <tr>\n",
       "      <th>907</th>\n",
       "      <td>RT</td>\n",
       "      <td>199.0</td>\n",
       "      <td>222</td>\n",
       "    </tr>\n",
       "  </tbody>\n",
       "</table>\n",
       "<p>907 rows × 3 columns</p>\n",
       "</div>"
      ],
      "text/plain": [
       "    Species   Wing  Tail\n",
       "0        RT  385.0   219\n",
       "1        RT  376.0   221\n",
       "2        RT  381.0   235\n",
       "3        CH  265.0   220\n",
       "4        SS  205.0   157\n",
       "..      ...    ...   ...\n",
       "903      RT  380.0   224\n",
       "904      SS  190.0   150\n",
       "905      RT  360.0   211\n",
       "906      RT  369.0   207\n",
       "907      RT  199.0   222\n",
       "\n",
       "[907 rows x 3 columns]"
      ]
     },
     "execution_count": 2,
     "metadata": {},
     "output_type": "execute_result"
    }
   ],
   "source": [
    "# Read in the data and subset it to the relevant columns/observations\n",
    "hawks = pd.read_csv(\"../../Data/hawks.csv\")\n",
    "hawks = hawks[[\"Species\", \"Wing\", \"Tail\"]].dropna(axis=0)\n",
    "hawks"
   ]
  },
  {
   "attachments": {},
   "cell_type": "markdown",
   "metadata": {},
   "source": [
    "### Implementing the Algorithm\n",
    "\n",
    "The class below contains methods that are useful to implementing the *k*-nearest neighbors algorithm.\n",
    "\n",
    "For details about the algorithm, check out the `README.md` file of this `knn` directory. In summary, we calculate the distance from a test data point to every point in the training set, find the k nearest, and decide the final prediction based on a majority score."
   ]
  },
  {
   "cell_type": "code",
   "execution_count": 3,
   "metadata": {},
   "outputs": [],
   "source": [
    "class kNN:\n",
    "    \"\"\"\n",
    "    A class with the functionalities to perform the k-nearest neighbors algorithm\n",
    "    \"\"\"\n",
    "\n",
    "    #def __init__(self):\n",
    "    #    self.k = 1\n",
    "    \n",
    "    def distance(self, p, q):\n",
    "        \"\"\"\n",
    "        Calculates the Euclidean distance between p and q\n",
    "        \"\"\"\n",
    "        return np.sqrt((p - q) @ (p - q))\n",
    "    \n",
    "    def get_knn(self, point, training_features, training_labels, k):\n",
    "        \"\"\"\n",
    "        Obtain the k nearest neighbors by distance for an inputted point\n",
    "        \"\"\"\n",
    "        # Create an empty list to store neighbors and distances\n",
    "        neighbors = []\n",
    "\n",
    "        for p, label in zip(training_features, training_labels):\n",
    "            d = self.distance(point, p)\n",
    "            temp_data = [p, label, d]\n",
    "            neighbors.append(temp_data)\n",
    "        \n",
    "        neighbors.sort(key = lambda x : x[-1])\n",
    "    \n",
    "        return neighbors[:k]\n",
    "\n",
    "    def predict(self, point, training_features, training_labels, k, regression = False):\n",
    "        \"\"\"\n",
    "        Obtain a prediction based on the kNN algorithm for an inputted point\n",
    "        \"\"\"\n",
    "        neighbors = self.get_knn(point, training_features, training_labels, k)\n",
    "\n",
    "        if regression == False:\n",
    "            labels = [x[1] for x in neighbors]\n",
    "            return max(labels, key = labels.count)\n",
    "        else:\n",
    "            return sum(x[1] for x in neighbors)/k\n",
    "\n",
    "    def classification_error(self, test_features, test_labels,\n",
    "                             training_features, training_labels, k):\n",
    "        \"\"\"\n",
    "        Compute the classification error of a testing set (classification tasks only)\n",
    "        \"\"\"\n",
    "        error = 0\n",
    "        for point, label in zip(test_features, test_labels):\n",
    "            error += label != self.predict(point, training_features, training_labels, k)\n",
    "        return error/len(test_features)\n",
    "    \n",
    "    def classification_error_plot(self, test_features, test_labels,\n",
    "                                  training_features, training_labels):\n",
    "        possible_k = [k for k in range(3, int(np.ceil(np.sqrt(len(training_labels)))), 2)]\n",
    "        errors = [self.classification_error(test_features, test_labels,\n",
    "                                            training_features, training_labels, k) for k in possible_k]\n",
    "\n",
    "        plt.figure(figsize = (8, 6))\n",
    "        plt.plot(possible_k, errors, color = 'red', marker = \"o\")\n",
    "        plt.xlabel('k', fontsize = 14)\n",
    "        plt.ylabel('Classification Error', fontsize = 14)\n",
    "        plt.xticks(possible_k)"
   ]
  },
  {
   "attachments": {},
   "cell_type": "markdown",
   "metadata": {},
   "source": [
    "#### KNN with 2 features: wing & tail length\n",
    "\n",
    "First, I run KNN with the two features that have been commonly used as a starting point for classification tasks."
   ]
  },
  {
   "cell_type": "code",
   "execution_count": 4,
   "metadata": {},
   "outputs": [],
   "source": [
    "# Data preparation step\n",
    "X = hawks[[\"Wing\", \"Tail\"]].to_numpy()\n",
    "y = hawks[\"Species\"].to_numpy()\n",
    "\n",
    "X_train, X_test, y_train, y_test = train_test_split(X, y, test_size=0.20, random_state=1)"
   ]
  },
  {
   "attachments": {},
   "cell_type": "markdown",
   "metadata": {},
   "source": [
    "The first step is to determine the value of *k* that is most appropriate. This will be determined by trying a set of *k*'s and determining which produces the least error on the test set, keeping into account the following:\n",
    "\n",
    "* Small values of *k* can lead to overfitting and higher influences of noise in the data\n",
    "* Large values of *k* are computationally expensive and can lead to underfitting\n",
    "* Even values of *k* cause complications when ties arise\n",
    "\n",
    "The plot below displays the classification error for a range of *k*'s from 3 to $\\sqrt n$, a widely accepted optimal value for *k*, where n is the number of training samples."
   ]
  },
  {
   "cell_type": "code",
   "execution_count": 5,
   "metadata": {},
   "outputs": [
    {
     "data": {
      "image/png": "[encoded data removed]",
      "text/plain": [
       "<Figure size 800x600 with 1 Axes>"
      ]
     },
     "metadata": {},
     "output_type": "display_data"
    }
   ],
   "source": [
    "hawks_knn = kNN()\n",
    "\n",
    "hawks_knn.classification_error_plot(X_test, y_test, X_train, y_train)\n",
    "plt.title(\"Hawk species kNN classification error, given wing and tail length\", fontsize = 14)\n",
    "plt.show()"
   ]
  },
  {
   "attachments": {},
   "cell_type": "markdown",
   "metadata": {},
   "source": [
    "Interestingly, any choice of k results in the same classification error. \n",
    "\n",
    "Now, I will show the predictions for select data points to show what's going on behind the scenes of this algorithm."
   ]
  },
  {
   "cell_type": "code",
   "execution_count": 6,
   "metadata": {},
   "outputs": [
    {
     "name": "stdout",
     "output_type": "stream",
     "text": [
      "[360. 240.] RT\n",
      "RT\n"
     ]
    },
    {
     "data": {
      "text/plain": [
       "[[array([363., 242.]), 'RT', 3.605551275463989],\n",
       " [array([362., 234.]), 'RT', 6.324555320336759],\n",
       " [array([367., 238.]), 'RT', 7.280109889280518],\n",
       " [array([361., 231.]), 'RT', 9.055385138137417],\n",
       " [array([365., 232.]), 'RT', 9.433981132056603]]"
      ]
     },
     "execution_count": 6,
     "metadata": {},
     "output_type": "execute_result"
    }
   ],
   "source": [
    "print(X_test[13], y_test[13]) # show the features and the true label\n",
    "\n",
    "print(hawks_knn.predict(X_test[13], X_train, y_train, 5)) # show the predicted label, k = 5\n",
    "\n",
    "hawks_knn.get_knn(X_test[13], X_train, y_train, 5)"
   ]
  },
  {
   "cell_type": "code",
   "execution_count": 7,
   "metadata": {},
   "outputs": [
    {
     "name": "stdout",
     "output_type": "stream",
     "text": [
      "[199. 160.] SS\n",
      "SS\n"
     ]
    },
    {
     "data": {
      "text/plain": [
       "[[array([199., 159.]), 'SS', 1.0],\n",
       " [array([199., 161.]), 'SS', 1.0],\n",
       " [array([198., 159.]), 'SS', 1.4142135623730951],\n",
       " [array([198., 158.]), 'SS', 2.23606797749979],\n",
       " [array([200., 158.]), 'SS', 2.23606797749979],\n",
       " [array([201., 162.]), 'SS', 2.8284271247461903],\n",
       " [array([202., 160.]), 'SS', 3.0],\n",
       " [array([202., 160.]), 'SS', 3.0],\n",
       " [array([199., 157.]), 'SS', 3.0],\n",
       " [array([199., 157.]), 'CH', 3.0]]"
      ]
     },
     "execution_count": 7,
     "metadata": {},
     "output_type": "execute_result"
    }
   ],
   "source": [
    "print(X_test[50], y_test[50]) # show the features and the true label\n",
    "\n",
    "print(hawks_knn.predict(X_test[50], X_train, y_train, 10)) # show the predicted label, k = 10\n",
    "\n",
    "hawks_knn.get_knn(X_test[50], X_train, y_train, 10)"
   ]
  },
  {
   "attachments": {},
   "cell_type": "markdown",
   "metadata": {},
   "source": [
    "The demonstration of k-nearest neighbors on these data points shows how the algorithm finds the nearest points and then uses the majority to produce the final prediction."
   ]
  },
  {
   "attachments": {},
   "cell_type": "markdown",
   "metadata": {},
   "source": [
    "#### KNN with 5 features: \n",
    "\n",
    "\n",
    "To be added"
   ]
  },
  {
   "attachments": {},
   "cell_type": "markdown",
   "metadata": {},
   "source": [
    "### Using scikit-learn"
   ]
  },
  {
   "cell_type": "code",
   "execution_count": 8,
   "metadata": {},
   "outputs": [],
   "source": [
    "import sklearn.neighbors\n",
    "model = sklearn.neighbors.KNeighborsRegressor(n_neighbors = 3)"
   ]
  }
 ],
 "metadata": {
  "kernelspec": {
   "display_name": "base",
   "language": "python",
   "name": "python3"
  },
  "language_info": {
   "codemirror_mode": {
    "name": "ipython",
    "version": 3
   },
   "file_extension": ".py",
   "mimetype": "text/x-python",
   "name": "python",
   "nbconvert_exporter": "python",
   "pygments_lexer": "ipython3",
   "version": "3.9.13"
  },
  "orig_nbformat": 4
 },
 "nbformat": 4,
 "nbformat_minor": 2
}
