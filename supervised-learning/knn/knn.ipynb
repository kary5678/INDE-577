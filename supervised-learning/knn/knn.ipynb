{
 "cells": [
  {
   "attachments": {},
   "cell_type": "markdown",
   "metadata": {},
   "source": [
    "# *k*-Nearest Neighbors\n",
    "\n",
    "This notebook implements k-nearest neighbors, which is a nonparametric machine learning algorithm. Abbreviated as knn, the algorithm is based on the idea that similar data points are grouped together and close in proximity.\n",
    "\n",
    "---\n",
    "\n",
    "First, load the relevant libraries needed."
   ]
  },
  {
   "cell_type": "code",
   "execution_count": 1,
   "metadata": {},
   "outputs": [],
   "source": [
    "import matplotlib.pyplot as plt\n",
    "import numpy as np\n",
    "import pandas as pd\n",
    "import seaborn as sns\n",
    "\n",
    "# Import a nice function for plotting decision boundaries\n",
    "from mlxtend.plotting import plot_decision_regions\n",
    "\n",
    "# Set the Seaborn theme\n",
    "sns.set_theme()\n",
    "\n",
    "# Import functions from scikit-learn to help with training/testing endeavors\n",
    "from sklearn.model_selection import train_test_split"
   ]
  },
  {
   "attachments": {},
   "cell_type": "markdown",
   "metadata": {},
   "source": [
    "### The Data\n",
    "\n",
    "The model will be trained using the [Hawks](https://r-data.pmagunia.com/dataset/r-dataset-package-stat2data-hawks) dataset. This dataset contains observations for three species of hawks, and attributes such as age, sex, wing length, body weight, tail length, etc. \n",
    "\n",
    "The code block below reads the dataset into a pandas DataFrame object, subsets the DataFrame to the relevant variables, and drops any rows where there are missing values for these relevant variables."
   ]
  },
  {
   "cell_type": "code",
   "execution_count": 2,
   "metadata": {},
   "outputs": [
    {
     "data": {
      "text/html": [
       "<div>\n",
       "<style scoped>\n",
       "    .dataframe tbody tr th:only-of-type {\n",
       "        vertical-align: middle;\n",
       "    }\n",
       "\n",
       "    .dataframe tbody tr th {\n",
       "        vertical-align: top;\n",
       "    }\n",
       "\n",
       "    .dataframe thead th {\n",
       "        text-align: right;\n",
       "    }\n",
       "</style>\n",
       "<table border=\"1\" class=\"dataframe\">\n",
       "  <thead>\n",
       "    <tr style=\"text-align: right;\">\n",
       "      <th></th>\n",
       "      <th>Species</th>\n",
       "      <th>Wing</th>\n",
       "      <th>Tail</th>\n",
       "      <th>Weight</th>\n",
       "      <th>Culmen</th>\n",
       "      <th>Hallux</th>\n",
       "    </tr>\n",
       "  </thead>\n",
       "  <tbody>\n",
       "    <tr>\n",
       "      <th>0</th>\n",
       "      <td>RT</td>\n",
       "      <td>385.0</td>\n",
       "      <td>219</td>\n",
       "      <td>920.0</td>\n",
       "      <td>25.7</td>\n",
       "      <td>30.1</td>\n",
       "    </tr>\n",
       "    <tr>\n",
       "      <th>2</th>\n",
       "      <td>RT</td>\n",
       "      <td>381.0</td>\n",
       "      <td>235</td>\n",
       "      <td>990.0</td>\n",
       "      <td>26.7</td>\n",
       "      <td>31.3</td>\n",
       "    </tr>\n",
       "    <tr>\n",
       "      <th>3</th>\n",
       "      <td>CH</td>\n",
       "      <td>265.0</td>\n",
       "      <td>220</td>\n",
       "      <td>470.0</td>\n",
       "      <td>18.7</td>\n",
       "      <td>23.5</td>\n",
       "    </tr>\n",
       "    <tr>\n",
       "      <th>4</th>\n",
       "      <td>SS</td>\n",
       "      <td>205.0</td>\n",
       "      <td>157</td>\n",
       "      <td>170.0</td>\n",
       "      <td>12.5</td>\n",
       "      <td>14.3</td>\n",
       "    </tr>\n",
       "    <tr>\n",
       "      <th>5</th>\n",
       "      <td>RT</td>\n",
       "      <td>412.0</td>\n",
       "      <td>230</td>\n",
       "      <td>1090.0</td>\n",
       "      <td>28.5</td>\n",
       "      <td>32.2</td>\n",
       "    </tr>\n",
       "    <tr>\n",
       "      <th>...</th>\n",
       "      <td>...</td>\n",
       "      <td>...</td>\n",
       "      <td>...</td>\n",
       "      <td>...</td>\n",
       "      <td>...</td>\n",
       "      <td>...</td>\n",
       "    </tr>\n",
       "    <tr>\n",
       "      <th>903</th>\n",
       "      <td>RT</td>\n",
       "      <td>380.0</td>\n",
       "      <td>224</td>\n",
       "      <td>1525.0</td>\n",
       "      <td>26.0</td>\n",
       "      <td>27.6</td>\n",
       "    </tr>\n",
       "    <tr>\n",
       "      <th>904</th>\n",
       "      <td>SS</td>\n",
       "      <td>190.0</td>\n",
       "      <td>150</td>\n",
       "      <td>175.0</td>\n",
       "      <td>12.7</td>\n",
       "      <td>15.4</td>\n",
       "    </tr>\n",
       "    <tr>\n",
       "      <th>905</th>\n",
       "      <td>RT</td>\n",
       "      <td>360.0</td>\n",
       "      <td>211</td>\n",
       "      <td>790.0</td>\n",
       "      <td>21.9</td>\n",
       "      <td>27.6</td>\n",
       "    </tr>\n",
       "    <tr>\n",
       "      <th>906</th>\n",
       "      <td>RT</td>\n",
       "      <td>369.0</td>\n",
       "      <td>207</td>\n",
       "      <td>860.0</td>\n",
       "      <td>25.2</td>\n",
       "      <td>28.0</td>\n",
       "    </tr>\n",
       "    <tr>\n",
       "      <th>907</th>\n",
       "      <td>RT</td>\n",
       "      <td>199.0</td>\n",
       "      <td>222</td>\n",
       "      <td>1290.0</td>\n",
       "      <td>28.7</td>\n",
       "      <td>32.1</td>\n",
       "    </tr>\n",
       "  </tbody>\n",
       "</table>\n",
       "<p>891 rows × 6 columns</p>\n",
       "</div>"
      ],
      "text/plain": [
       "    Species   Wing  Tail  Weight  Culmen  Hallux\n",
       "0        RT  385.0   219   920.0    25.7    30.1\n",
       "2        RT  381.0   235   990.0    26.7    31.3\n",
       "3        CH  265.0   220   470.0    18.7    23.5\n",
       "4        SS  205.0   157   170.0    12.5    14.3\n",
       "5        RT  412.0   230  1090.0    28.5    32.2\n",
       "..      ...    ...   ...     ...     ...     ...\n",
       "903      RT  380.0   224  1525.0    26.0    27.6\n",
       "904      SS  190.0   150   175.0    12.7    15.4\n",
       "905      RT  360.0   211   790.0    21.9    27.6\n",
       "906      RT  369.0   207   860.0    25.2    28.0\n",
       "907      RT  199.0   222  1290.0    28.7    32.1\n",
       "\n",
       "[891 rows x 6 columns]"
      ]
     },
     "execution_count": 2,
     "metadata": {},
     "output_type": "execute_result"
    }
   ],
   "source": [
    "# Read in the data and subset it to the relevant columns/observations\n",
    "hawks = pd.read_csv(\"../../Data/hawks.csv\")\n",
    "hawks = hawks[[\"Species\", \"Wing\", \"Tail\", \"Weight\", \"Culmen\", \"Hallux\"]].dropna(axis=0)\n",
    "hawks"
   ]
  },
  {
   "attachments": {},
   "cell_type": "markdown",
   "metadata": {},
   "source": [
    "### Implementing the Algorithm\n",
    "\n",
    "The class below contains methods that are useful to implementing the *k*-nearest neighbors algorithm.\n",
    "\n",
    "For details about the algorithm, check out the `README.md` file of this `knn` directory. In summary, we calculate the distance from a test data point to every point in the training set, find the k nearest, and decide the final prediction based on a majority score."
   ]
  },
  {
   "cell_type": "code",
   "execution_count": 3,
   "metadata": {},
   "outputs": [],
   "source": [
    "class kNN:\n",
    "    \"\"\"\n",
    "    A class with the functionalities to perform the k-nearest neighbors algorithm\n",
    "\n",
    "    ...\n",
    "\n",
    "    Attributes\n",
    "    ----------\n",
    "    \n",
    "    \"\"\"\n",
    "\n",
    "    #def __init__(self):\n",
    "    #    self.k = 1\n",
    "    \n",
    "    def distance(self, p, q):\n",
    "        \"\"\"\n",
    "        Calculates the Euclidean distance between p and q\n",
    "        \"\"\"\n",
    "        return np.sqrt((p - q) @ (p - q))\n",
    "    \n",
    "    def get_knn(self, point, training_features, training_labels, k):\n",
    "        \"\"\"\n",
    "        Obtain the k nearest neighbors by distance for an inputted point\n",
    "        \"\"\"\n",
    "        # Create an empty list to store neighbors and distances\n",
    "        neighbors = []\n",
    "\n",
    "        for p, label in zip(training_features, training_labels):\n",
    "            d = self.distance(point, p)\n",
    "            temp_data = [p, label, d]\n",
    "            neighbors.append(temp_data)\n",
    "        \n",
    "        neighbors.sort(key = lambda x : x[-1])\n",
    "    \n",
    "        return neighbors[:k]\n",
    "\n",
    "    def predict(self, point, training_features, training_labels, k, regression = False):\n",
    "        \"\"\"\n",
    "        Obtain a prediction based on the kNN algorithm for an inputted point\n",
    "        \"\"\"\n",
    "        neighbors = self.get_knn(point, training_features, training_labels, k)\n",
    "\n",
    "        if regression == False:\n",
    "            labels = [x[1] for x in neighbors]\n",
    "            return max(labels, key = labels.count)\n",
    "        else:\n",
    "            return sum(x[1] for x in neighbors)/k\n",
    "\n",
    "    def classification_error(self, test_features, test_labels,\n",
    "                             training_features, training_labels, k):\n",
    "        \"\"\"\n",
    "        Compute the classification error of a testing set (classification tasks only)\n",
    "        \"\"\"\n",
    "        error = 0\n",
    "        for point, label in zip(test_features, test_labels):\n",
    "            error += label != self.predict(point, training_features, training_labels, k)\n",
    "        return error/len(test_features)\n",
    "    \n",
    "    def classification_error_plot(self, test_features, test_labels,\n",
    "                                  training_features, training_labels):\n",
    "        \"\"\"\n",
    "        Plot the classification error of the testing set over a range of k-values\n",
    "        \"\"\"\n",
    "        possible_k = [k for k in range(3, int(np.ceil(np.sqrt(len(training_labels)))), 2)]\n",
    "        errors = [self.classification_error(test_features, test_labels,\n",
    "                                            training_features, training_labels, k) for k in possible_k]\n",
    "\n",
    "        plt.figure(figsize = (8, 6))\n",
    "        plt.plot(possible_k, errors, color = 'red', marker = \"o\")\n",
    "        plt.xlabel('k', fontsize = 14)\n",
    "        plt.ylabel('Classification Error', fontsize = 14)\n",
    "        plt.xticks(possible_k)"
   ]
  },
  {
   "attachments": {},
   "cell_type": "markdown",
   "metadata": {},
   "source": [
    "#### KNN with 2 features: wing & tail length\n",
    "\n",
    "First, I run KNN with the two features that have been commonly used as a starting point for classification tasks."
   ]
  },
  {
   "cell_type": "code",
   "execution_count": 4,
   "metadata": {},
   "outputs": [],
   "source": [
    "# Data preparation step\n",
    "X = hawks[[\"Wing\", \"Tail\"]].to_numpy()\n",
    "y = hawks[\"Species\"].to_numpy()\n",
    "\n",
    "X_train, X_test, y_train, y_test = train_test_split(X, y, test_size=0.20, random_state=1)"
   ]
  },
  {
   "attachments": {},
   "cell_type": "markdown",
   "metadata": {},
   "source": [
    "The first step is to determine the value of *k* that is most appropriate. This will be determined by trying a set of *k*'s and determining which produces the least error on the test set, keeping into account the following:\n",
    "\n",
    "* Small values of *k* can lead to overfitting and higher influences of noise in the data\n",
    "* Large values of *k* are computationally expensive and can lead to underfitting\n",
    "* Even values of *k* cause complications when ties arise\n",
    "\n",
    "The plot below displays the classification error for a range of *k*'s from 3 to $\\sqrt n$, a widely accepted optimal value for *k*, where n is the number of training samples."
   ]
  },
  {
   "cell_type": "code",
   "execution_count": 5,
   "metadata": {},
   "outputs": [
    {
     "data": {
      "image/png": "[encoded data removed]",
      "text/plain": [
       "<Figure size 800x600 with 1 Axes>"
      ]
     },
     "metadata": {},
     "output_type": "display_data"
    }
   ],
   "source": [
    "hawks_knn = kNN()\n",
    "\n",
    "hawks_knn.classification_error_plot(X_test, y_test, X_train, y_train)\n",
    "plt.title(\"Hawk species kNN classification error, given wing and tail length\", fontsize = 14)\n",
    "plt.show()"
   ]
  },
  {
   "attachments": {},
   "cell_type": "markdown",
   "metadata": {},
   "source": [
    "Choosing k = 7 results in the lowest classification error while not being too complex.\n",
    "\n",
    "Now, I will show the predictions for select data points to show what's going on behind the scenes of this algorithm."
   ]
  },
  {
   "cell_type": "code",
   "execution_count": 6,
   "metadata": {},
   "outputs": [
    {
     "name": "stdout",
     "output_type": "stream",
     "text": [
      "[396. 227.] RT\n",
      "RT\n"
     ]
    },
    {
     "data": {
      "text/plain": [
       "[[array([397., 228.]), 'RT', 1.4142135623730951],\n",
       " [array([398., 225.]), 'RT', 2.8284271247461903],\n",
       " [array([394., 225.]), 'RT', 2.8284271247461903],\n",
       " [array([396., 230.]), 'RT', 3.0],\n",
       " [array([393., 226.]), 'RT', 3.1622776601683795],\n",
       " [array([397., 224.]), 'RT', 3.1622776601683795],\n",
       " [array([399., 228.]), 'RT', 3.1622776601683795]]"
      ]
     },
     "execution_count": 6,
     "metadata": {},
     "output_type": "execute_result"
    }
   ],
   "source": [
    "print(X_test[13], y_test[13]) # show the features and the true label\n",
    "\n",
    "print(hawks_knn.predict(X_test[13], X_train, y_train, 7)) # show the predicted label, k = 7\n",
    "\n",
    "hawks_knn.get_knn(X_test[13], X_train, y_train, 7) # show the 7 nearest by distance"
   ]
  },
  {
   "cell_type": "code",
   "execution_count": 7,
   "metadata": {},
   "outputs": [
    {
     "name": "stdout",
     "output_type": "stream",
     "text": [
      "[250. 192.] SS\n",
      "CH\n"
     ]
    },
    {
     "data": {
      "text/plain": [
       "[[array([252., 185.]), 'CH', 7.280109889280518],\n",
       " [array([240., 192.]), 'CH', 10.0],\n",
       " [array([237., 195.]), 'CH', 13.341664064126334],\n",
       " [array([262., 200.]), 'RT', 14.422205101855956],\n",
       " [array([239., 182.]), 'CH', 14.866068747318506],\n",
       " [array([235., 193.]), 'CH', 15.033296378372908],\n",
       " [array([261., 203.]), 'CH', 15.556349186104045]]"
      ]
     },
     "execution_count": 7,
     "metadata": {},
     "output_type": "execute_result"
    }
   ],
   "source": [
    "print(X_test[34], y_test[34]) # show the features and the true label\n",
    "\n",
    "print(hawks_knn.predict(X_test[34], X_train, y_train, 7)) # show the predicted label, k = 7\n",
    "\n",
    "hawks_knn.get_knn(X_test[34], X_train, y_train, 7) # show the 7 nearest by distance"
   ]
  },
  {
   "attachments": {},
   "cell_type": "markdown",
   "metadata": {},
   "source": [
    "The demonstration of k-nearest neighbors on these data points shows how the algorithm finds the nearest points and then uses the majority to produce the final prediction.\n",
    "\n",
    "In the first case using test point 13, the correct label is produced. In the second case using test point 34, the wrong prediction is made, but the nearest 7 observations are all not the Sharp-shinned species."
   ]
  },
  {
   "attachments": {},
   "cell_type": "markdown",
   "metadata": {},
   "source": [
    "#### KNN with 5 features\n",
    "\n",
    "In addition to wing and tail length, I now run *k*-nearest neighbors with 3 additional hawk features: body weight, culmen length, and hallux (killing talon) length.\n",
    "\n",
    "An underlying question is whether the inclusion of more features will improve the hawk species classification accuracy."
   ]
  },
  {
   "cell_type": "code",
   "execution_count": 8,
   "metadata": {},
   "outputs": [],
   "source": [
    "# Data preparation step: use 5 features now instead of the original 2\n",
    "X = hawks.drop(\"Species\", axis=1).to_numpy()\n",
    "# the y-values stay the same\n",
    "\n",
    "X_train, X_test, y_train, y_test = train_test_split(X, y, test_size=0.20, random_state=1)"
   ]
  },
  {
   "cell_type": "code",
   "execution_count": 9,
   "metadata": {},
   "outputs": [
    {
     "data": {
      "image/png": "[encoded data removed]",
      "text/plain": [
       "<Figure size 800x600 with 1 Axes>"
      ]
     },
     "metadata": {},
     "output_type": "display_data"
    }
   ],
   "source": [
    "hawks_knn.classification_error_plot(X_test, y_test, X_train, y_train)\n",
    "plt.title(\"Hawk species kNN classification error, given 5 features\", fontsize = 14)\n",
    "plt.show()"
   ]
  },
  {
   "attachments": {},
   "cell_type": "markdown",
   "metadata": {},
   "source": [
    "At all values of *k*, the classification error when 5 features are used is larger compared to when only the original 2 features are used. Also, as the value of *k* increases, the classification error even increases.\n",
    "\n",
    "Here, good values for the parameter k would be 3 or 5, seeing how they lead to the least classification errors. Considering how low values of *k* make predictions more prone to noise in the data, I will proceed with k = 5."
   ]
  },
  {
   "cell_type": "code",
   "execution_count": 10,
   "metadata": {},
   "outputs": [
    {
     "name": "stdout",
     "output_type": "stream",
     "text": [
      "[ 396.   227.  1010.    24.    26.9] RT\n",
      "RT\n"
     ]
    },
    {
     "data": {
      "text/plain": [
       "[[array([ 397. ,  228. , 1010. ,   27.1,   31.4]), 'RT', 5.6444663166680344],\n",
       " [array([ 397. ,  222. , 1010. ,   25. ,   30.6]), 'RT', 6.3788713735268265],\n",
       " [array([ 393. ,  222. , 1010. ,   26.3,   30.8]), 'RT', 7.382411530116702],\n",
       " [array([ 390. ,  230. , 1015. ,   28. ,   30.1]), 'RT', 9.810198774744578],\n",
       " [array([ 390. ,  231. , 1000. ,   25.1,   28.3]), 'RT', 12.45672509129105]]"
      ]
     },
     "execution_count": 10,
     "metadata": {},
     "output_type": "execute_result"
    }
   ],
   "source": [
    "print(X_test[13], y_test[13]) # show the features and the true label\n",
    "\n",
    "print(hawks_knn.predict(X_test[13], X_train, y_train, 5)) # show the predicted label, k = 5\n",
    "\n",
    "hawks_knn.get_knn(X_test[13], X_train, y_train, 5) # show the 5 nearest by distance"
   ]
  },
  {
   "cell_type": "code",
   "execution_count": 11,
   "metadata": {},
   "outputs": [
    {
     "name": "stdout",
     "output_type": "stream",
     "text": [
      "[250.  192.  470.   18.9  25.3] SS\n",
      "CH\n"
     ]
    },
    {
     "data": {
      "text/plain": [
       "[[array([261. , 216. , 455. ,  17.1,  26.8]), 'CH', 30.454720487963765],\n",
       " [array([258. , 214. , 490. ,  18. ,  24.2]), 'CH', 30.822394455979566],\n",
       " [array([265. , 225. , 464. ,  19.2,  24.1]), 'CH', 36.763160908714035],\n",
       " [array([255. , 214. , 440. ,  18.6,  22.8]), 'CH', 37.62100477127106],\n",
       " [array([261. , 203. , 505. ,  19.2,  25.1]), 'CH', 38.303133031124226]]"
      ]
     },
     "execution_count": 11,
     "metadata": {},
     "output_type": "execute_result"
    }
   ],
   "source": [
    "print(X_test[34], y_test[34]) # show the features and the true label\n",
    "\n",
    "print(hawks_knn.predict(X_test[34], X_train, y_train, 5)) # show the predicted label, k = 5\n",
    "\n",
    "hawks_knn.get_knn(X_test[34], X_train, y_train, 5) # show the 5 nearest by distance"
   ]
  },
  {
   "attachments": {},
   "cell_type": "markdown",
   "metadata": {},
   "source": [
    "### Using scikit-learn\n",
    "\n",
    "Below, I provide an example of how you would use the scikit-learn library to perform *k*-nearest neighbors for a classification task, using the same training/testing dataset involving 5 features to predict hawk species."
   ]
  },
  {
   "cell_type": "code",
   "execution_count": 12,
   "metadata": {},
   "outputs": [
    {
     "name": "stdout",
     "output_type": "stream",
     "text": [
      "Predicted: ['SS'] \n",
      "Actual: SS\n",
      "Nearest distances: [[ 9.59426912  9.95188424 10.73685243 10.74476617 11.04264461]]\n",
      "Nearest labels: [['SS' 'SS' 'SS' 'SS' 'SS']]\n"
     ]
    }
   ],
   "source": [
    "import sklearn.neighbors\n",
    "import warnings\n",
    "warnings.filterwarnings('ignore') # surpress deprecation warnings\n",
    "\n",
    "model = sklearn.neighbors.KNeighborsClassifier(n_neighbors = 5)\n",
    "model.fit(X_train, y_train)\n",
    "\n",
    "print(\"Predicted:\", model.predict([X_test[1]]),\n",
    "      \"\\nActual:\", y_test[1])\n",
    "nearest = model.kneighbors([X_test[1]])\n",
    "print(\"Nearest distances:\", nearest[0])\n",
    "print(\"Nearest labels:\", y_train[nearest[1]])"
   ]
  }
 ],
 "metadata": {
  "kernelspec": {
   "display_name": "base",
   "language": "python",
   "name": "python3"
  },
  "language_info": {
   "codemirror_mode": {
    "name": "ipython",
    "version": 3
   },
   "file_extension": ".py",
   "mimetype": "text/x-python",
   "name": "python",
   "nbconvert_exporter": "python",
   "pygments_lexer": "ipython3",
   "version": "3.9.13"
  },
  "orig_nbformat": 4
 },
 "nbformat": 4,
 "nbformat_minor": 2
}
