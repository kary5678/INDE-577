{
 "cells": [
  {
   "attachments": {},
   "cell_type": "markdown",
   "metadata": {},
   "source": [
    "# Random Forests\n",
    "\n",
    "This notebook implements random forests, an ensemble method for classification or regression that constructs multiple decision trees and combined them to reach a single output.\n",
    "\n",
    "---\n",
    "\n",
    "First, load the relevant libraries needed."
   ]
  },
  {
   "cell_type": "code",
   "execution_count": 1,
   "metadata": {},
   "outputs": [],
   "source": [
    "import matplotlib.pyplot as plt\n",
    "import numpy as np\n",
    "import pandas as pd\n",
    "import seaborn as sns\n",
    "\n",
    "# Import a nice function for plotting decision boundaries\n",
    "from mlxtend.plotting import plot_decision_regions\n",
    "\n",
    "# Set the Seaborn theme\n",
    "sns.set_theme()\n",
    "\n",
    "# Import functions to help with training/testing endeavors and evaluate performance\n",
    "from sklearn.model_selection import train_test_split\n",
    "from sklearn.metrics import confusion_matrix\n",
    "from sklearn.metrics import accuracy_score\n",
    "from sklearn.metrics import classification_report\n",
    "from sklearn.feature_selection import SelectFromModel\n",
    "\n",
    "# Import classification models\n",
    "from sklearn.ensemble import RandomForestClassifier"
   ]
  },
  {
   "attachments": {},
   "cell_type": "markdown",
   "metadata": {},
   "source": [
    "## The Data\n",
    "\n",
    "The model will be trained using the [Hawks](https://github.com/kary5678/INDE-577/blob/main/Data/hawks.csv) dataset. This dataset contains observations for three species of hawks, and attributes such as age, sex, wing length, body weight, tail length, etc. \n",
    "\n",
    "The code block below reads the dataset into a pandas DataFrame object, subsets the DataFrame to the relevant variables, and drops any rows where there are missing values for these relevant variables."
   ]
  },
  {
   "cell_type": "code",
   "execution_count": 2,
   "metadata": {},
   "outputs": [
    {
     "data": {
      "text/html": [
       "<div>\n",
       "<style scoped>\n",
       "    .dataframe tbody tr th:only-of-type {\n",
       "        vertical-align: middle;\n",
       "    }\n",
       "\n",
       "    .dataframe tbody tr th {\n",
       "        vertical-align: top;\n",
       "    }\n",
       "\n",
       "    .dataframe thead th {\n",
       "        text-align: right;\n",
       "    }\n",
       "</style>\n",
       "<table border=\"1\" class=\"dataframe\">\n",
       "  <thead>\n",
       "    <tr style=\"text-align: right;\">\n",
       "      <th></th>\n",
       "      <th>Species</th>\n",
       "      <th>Wing</th>\n",
       "      <th>Tail</th>\n",
       "      <th>Weight</th>\n",
       "      <th>Culmen</th>\n",
       "      <th>Hallux</th>\n",
       "    </tr>\n",
       "  </thead>\n",
       "  <tbody>\n",
       "    <tr>\n",
       "      <th>0</th>\n",
       "      <td>RT</td>\n",
       "      <td>385.0</td>\n",
       "      <td>219</td>\n",
       "      <td>920.0</td>\n",
       "      <td>25.7</td>\n",
       "      <td>30.1</td>\n",
       "    </tr>\n",
       "    <tr>\n",
       "      <th>2</th>\n",
       "      <td>RT</td>\n",
       "      <td>381.0</td>\n",
       "      <td>235</td>\n",
       "      <td>990.0</td>\n",
       "      <td>26.7</td>\n",
       "      <td>31.3</td>\n",
       "    </tr>\n",
       "    <tr>\n",
       "      <th>3</th>\n",
       "      <td>CH</td>\n",
       "      <td>265.0</td>\n",
       "      <td>220</td>\n",
       "      <td>470.0</td>\n",
       "      <td>18.7</td>\n",
       "      <td>23.5</td>\n",
       "    </tr>\n",
       "    <tr>\n",
       "      <th>4</th>\n",
       "      <td>SS</td>\n",
       "      <td>205.0</td>\n",
       "      <td>157</td>\n",
       "      <td>170.0</td>\n",
       "      <td>12.5</td>\n",
       "      <td>14.3</td>\n",
       "    </tr>\n",
       "    <tr>\n",
       "      <th>5</th>\n",
       "      <td>RT</td>\n",
       "      <td>412.0</td>\n",
       "      <td>230</td>\n",
       "      <td>1090.0</td>\n",
       "      <td>28.5</td>\n",
       "      <td>32.2</td>\n",
       "    </tr>\n",
       "    <tr>\n",
       "      <th>...</th>\n",
       "      <td>...</td>\n",
       "      <td>...</td>\n",
       "      <td>...</td>\n",
       "      <td>...</td>\n",
       "      <td>...</td>\n",
       "      <td>...</td>\n",
       "    </tr>\n",
       "    <tr>\n",
       "      <th>903</th>\n",
       "      <td>RT</td>\n",
       "      <td>380.0</td>\n",
       "      <td>224</td>\n",
       "      <td>1525.0</td>\n",
       "      <td>26.0</td>\n",
       "      <td>27.6</td>\n",
       "    </tr>\n",
       "    <tr>\n",
       "      <th>904</th>\n",
       "      <td>SS</td>\n",
       "      <td>190.0</td>\n",
       "      <td>150</td>\n",
       "      <td>175.0</td>\n",
       "      <td>12.7</td>\n",
       "      <td>15.4</td>\n",
       "    </tr>\n",
       "    <tr>\n",
       "      <th>905</th>\n",
       "      <td>RT</td>\n",
       "      <td>360.0</td>\n",
       "      <td>211</td>\n",
       "      <td>790.0</td>\n",
       "      <td>21.9</td>\n",
       "      <td>27.6</td>\n",
       "    </tr>\n",
       "    <tr>\n",
       "      <th>906</th>\n",
       "      <td>RT</td>\n",
       "      <td>369.0</td>\n",
       "      <td>207</td>\n",
       "      <td>860.0</td>\n",
       "      <td>25.2</td>\n",
       "      <td>28.0</td>\n",
       "    </tr>\n",
       "    <tr>\n",
       "      <th>907</th>\n",
       "      <td>RT</td>\n",
       "      <td>199.0</td>\n",
       "      <td>222</td>\n",
       "      <td>1290.0</td>\n",
       "      <td>28.7</td>\n",
       "      <td>32.1</td>\n",
       "    </tr>\n",
       "  </tbody>\n",
       "</table>\n",
       "<p>891 rows × 6 columns</p>\n",
       "</div>"
      ],
      "text/plain": [
       "    Species   Wing  Tail  Weight  Culmen  Hallux\n",
       "0        RT  385.0   219   920.0    25.7    30.1\n",
       "2        RT  381.0   235   990.0    26.7    31.3\n",
       "3        CH  265.0   220   470.0    18.7    23.5\n",
       "4        SS  205.0   157   170.0    12.5    14.3\n",
       "5        RT  412.0   230  1090.0    28.5    32.2\n",
       "..      ...    ...   ...     ...     ...     ...\n",
       "903      RT  380.0   224  1525.0    26.0    27.6\n",
       "904      SS  190.0   150   175.0    12.7    15.4\n",
       "905      RT  360.0   211   790.0    21.9    27.6\n",
       "906      RT  369.0   207   860.0    25.2    28.0\n",
       "907      RT  199.0   222  1290.0    28.7    32.1\n",
       "\n",
       "[891 rows x 6 columns]"
      ]
     },
     "execution_count": 2,
     "metadata": {},
     "output_type": "execute_result"
    }
   ],
   "source": [
    "# Read in the data and subset it to the relevant columns/observations\n",
    "hawks = pd.read_csv(\"../../../Data/hawks.csv\")\n",
    "hawks = hawks[[\"Species\", \"Wing\", \"Tail\", \"Weight\", \"Culmen\", \"Hallux\"]].dropna(axis=0)\n",
    "hawks"
   ]
  },
  {
   "attachments": {},
   "cell_type": "markdown",
   "metadata": {},
   "source": [
    "## Training the model\n",
    "\n",
    "First, I will be training the random forest model using the 5 predictors in my dataset. This is because `RandomForestClassifier` will give diagnostics about feature importance, so first I can see how this model performs and then try to improve the results by retraining the model on a subset of important features."
   ]
  },
  {
   "cell_type": "code",
   "execution_count": 3,
   "metadata": {},
   "outputs": [],
   "source": [
    "# Data preparation step\n",
    "X = hawks[[\"Wing\", \"Tail\", \"Weight\", \"Culmen\", \"Hallux\"]]\n",
    "y = hawks[\"Species\"]\n",
    "\n",
    "X_train, X_test, y_train, y_test = train_test_split(X, y, test_size=0.20, random_state=1)"
   ]
  },
  {
   "attachments": {},
   "cell_type": "markdown",
   "metadata": {},
   "source": [
    "I choose `max_depth=3` because that is what I found to produce the best results."
   ]
  },
  {
   "cell_type": "code",
   "execution_count": 4,
   "metadata": {},
   "outputs": [
    {
     "name": "stdout",
     "output_type": "stream",
     "text": [
      "Training accuracy: 0.9915730337078652\n",
      "Testing accuracy: 0.9776536312849162\n",
      "Forest Classification Report\n",
      "              precision    recall  f1-score   support\n",
      "\n",
      "          CH       0.92      0.85      0.88        13\n",
      "          RT       0.98      1.00      0.99       106\n",
      "          SS       0.98      0.97      0.97        60\n",
      "\n",
      "    accuracy                           0.98       179\n",
      "   macro avg       0.96      0.94      0.95       179\n",
      "weighted avg       0.98      0.98      0.98       179\n",
      " \n",
      "\n"
     ]
    }
   ],
   "source": [
    "forest_model = RandomForestClassifier(\n",
    "    max_depth = 3, n_estimators = 500, bootstrap = True, n_jobs = -1, random_state = 42)\n",
    "forest_model.fit(X_train, y_train)\n",
    "\n",
    "print(\"Training accuracy:\", forest_model.score(X_train, y_train))\n",
    "print(\"Testing accuracy:\", forest_model.score(X_test, y_test))\n",
    "\n",
    "forest_y_pred = forest_model.predict(X_test)\n",
    "print(f\"Forest Classification Report\")\n",
    "print(classification_report(y_test, forest_y_pred), \"\\n\")"
   ]
  },
  {
   "attachments": {},
   "cell_type": "markdown",
   "metadata": {},
   "source": [
    "Overall, performance of this model is high, although the recall for Cooper's hawks (CH) could be better. However, based on the confusion matrix below, "
   ]
  },
  {
   "cell_type": "code",
   "execution_count": 5,
   "metadata": {},
   "outputs": [],
   "source": [
    "def plot_hawk_confusion_matrix(y_actual, y_pred):\n",
    "    \"\"\"\n",
    "    Plots the confusion matrix given the actual and predicted values\n",
    "    to easily view accurate classifications and type I/II errors\n",
    "    \"\"\"             \n",
    "    # Obtain confusion matrix\n",
    "    classes = [\"RT\", \"CH\", \"SS\"]\n",
    "    cf_matrix = confusion_matrix(y_actual, y_pred, labels = classes)\n",
    "\n",
    "    # View the confusion matrix using the seaborn package\n",
    "    plt.figure(figsize = (6, 4))\n",
    "    ax = sns.heatmap(cf_matrix, annot = True, cmap = 'Blues', fmt = 'g')\n",
    "    ax.set_title('Confusion Matrix\\n', fontsize = 14)\n",
    "    ax.set_xlabel(\"Predicted Label\", fontsize = 12)\n",
    "    ax.set_xticklabels(classes)\n",
    "    ax.set_ylabel(\"True Label\", fontsize = 12)\n",
    "    ax.set_yticklabels(classes, rotation = 0)"
   ]
  },
  {
   "cell_type": "code",
   "execution_count": 6,
   "metadata": {},
   "outputs": [
    {
     "data": {
      "image/png": "[encoded data removed]",
      "text/plain": [
       "<Figure size 600x400 with 2 Axes>"
      ]
     },
     "metadata": {},
     "output_type": "display_data"
    }
   ],
   "source": [
    "plot_hawk_confusion_matrix(y_test, forest_y_pred)\n",
    "plt.show()"
   ]
  },
  {
   "attachments": {},
   "cell_type": "markdown",
   "metadata": {},
   "source": [
    "### Feature selection"
   ]
  },
  {
   "cell_type": "code",
   "execution_count": 7,
   "metadata": {},
   "outputs": [
    {
     "name": "stdout",
     "output_type": "stream",
     "text": [
      "0.183 - Wing\n",
      "0.067 - Tail\n",
      "0.273 - Weight\n",
      "0.295 - Culmen\n",
      "0.181 - Hallux\n"
     ]
    }
   ],
   "source": [
    "# Output each feature's importance\n",
    "for ft, imp in zip(X_train.columns, forest_model.feature_importances_):\n",
    "    print(f\"{abs(imp):.3f} - {ft}\")"
   ]
  },
  {
   "cell_type": "code",
   "execution_count": 8,
   "metadata": {},
   "outputs": [
    {
     "name": "stdout",
     "output_type": "stream",
     "text": [
      "Keeping: ['Weight', 'Culmen']\n",
      "Dropping: ['Wing', 'Tail', 'Hallux']\n"
     ]
    }
   ],
   "source": [
    "trimmed_model = SelectFromModel(forest_model, prefit=True)\n",
    "cols_keep = list(X_train.columns[trimmed_model.get_support()])\n",
    "cols_drop = list(X_train.columns[~trimmed_model.get_support()])\n",
    "print(\"Keeping:\", cols_keep)\n",
    "print(\"Dropping:\", cols_drop)"
   ]
  },
  {
   "cell_type": "code",
   "execution_count": 9,
   "metadata": {},
   "outputs": [
    {
     "name": "stdout",
     "output_type": "stream",
     "text": [
      "Training accuracy: 0.9915730337078652\n",
      "Testing accuracy: 0.9720670391061452\n",
      "Forest Classification Report\n",
      "              precision    recall  f1-score   support\n",
      "\n",
      "          CH       0.91      0.77      0.83        13\n",
      "          RT       0.98      1.00      0.99       106\n",
      "          SS       0.97      0.97      0.97        60\n",
      "\n",
      "    accuracy                           0.97       179\n",
      "   macro avg       0.95      0.91      0.93       179\n",
      "weighted avg       0.97      0.97      0.97       179\n",
      " \n",
      "\n"
     ]
    }
   ],
   "source": [
    "# Create a subset of the X matrix with only the important features\n",
    "X_train2 = X_train.drop(cols_drop, axis = 1)\n",
    "X_test2 = X_test.drop(cols_drop, axis = 1)\n",
    "\n",
    "forest_model2 = RandomForestClassifier(\n",
    "    max_depth = 3, n_estimators = 500, bootstrap = True, n_jobs = -1, random_state = 42)\n",
    "forest_model2.fit(X_train2, y_train)\n",
    "\n",
    "print(\"Training accuracy:\", forest_model2.score(X_train2, y_train))\n",
    "print(\"Testing accuracy:\", forest_model2.score(X_test2, y_test))\n",
    "\n",
    "forest_y_pred2 = forest_model2.predict(X_test2)\n",
    "print(f\"Forest Classification Report\")\n",
    "print(classification_report(y_test, forest_y_pred2), \"\\n\")"
   ]
  },
  {
   "cell_type": "code",
   "execution_count": 10,
   "metadata": {},
   "outputs": [
    {
     "data": {
      "image/png": "[encoded data removed]",
      "text/plain": [
       "<Figure size 600x400 with 2 Axes>"
      ]
     },
     "metadata": {},
     "output_type": "display_data"
    }
   ],
   "source": [
    "plot_hawk_confusion_matrix(y_test, forest_y_pred2)\n",
    "plt.show()"
   ]
  }
 ],
 "metadata": {
  "kernelspec": {
   "display_name": "base",
   "language": "python",
   "name": "python3"
  },
  "language_info": {
   "codemirror_mode": {
    "name": "ipython",
    "version": 3
   },
   "file_extension": ".py",
   "mimetype": "text/x-python",
   "name": "python",
   "nbconvert_exporter": "python",
   "pygments_lexer": "ipython3",
   "version": "3.9.13"
  },
  "orig_nbformat": 4
 },
 "nbformat": 4,
 "nbformat_minor": 2
}
