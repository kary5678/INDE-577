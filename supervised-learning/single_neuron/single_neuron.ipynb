{
 "cells": [
  {
   "attachments": {},
   "cell_type": "markdown",
   "metadata": {},
   "source": [
    "# Algorithm \n",
    "\n",
    "This notebook implements the single neural model, which encompasses the Perceptron, linear regression, and logistic regression models.\n",
    "\n",
    "These three models all have the same underlying algorithm, but different cost and activation functions. I will write a class for the single neuron model, and show how it can be used to implement the Perceptron, linear regression, and logistic regression.\n",
    "\n",
    "---\n",
    "\n",
    "First, load the relevant libraries needed."
   ]
  },
  {
   "cell_type": "code",
   "execution_count": null,
   "metadata": {},
   "outputs": [],
   "source": [
    "import matplotlib.pyplot as plt\n",
    "import numpy as np\n",
    "import pandas as pd\n",
    "import seaborn as sns\n",
    "\n",
    "# Import a nice function for plotting decision boundaries\n",
    "from mlxtend.plotting import plot_decision_regions\n",
    "\n",
    "# Set the Seaborn theme\n",
    "sns.set_theme()"
   ]
  },
  {
   "attachments": {},
   "cell_type": "markdown",
   "metadata": {},
   "source": [
    "### The Data\n",
    "\n",
    "The model will be trained using the [Hawks](https://r-data.pmagunia.com/dataset/r-dataset-package-stat2data-hawks) dataset. This dataset contains observations for three species of hawks, and attributes such as age, sex, wing length, body weight, tail length, etc. \n",
    "\n",
    "The code block below reads the dataset into a pandas DataFrame object, subsets the DataFrame to the relevant variables, and drops any rows where there are missing values for these relevant variables."
   ]
  },
  {
   "cell_type": "code",
   "execution_count": null,
   "metadata": {},
   "outputs": [],
   "source": [
    "# Read in the data and subset it to the relevant columns/observations\n",
    "df = pd.read_csv(\"../../Data/hawks.csv\")\n",
    "df = df[[\"Species\", \"Wing\", \"Tail\"]].dropna(axis=0)\n",
    "df"
   ]
  },
  {
   "attachments": {},
   "cell_type": "markdown",
   "metadata": {},
   "source": [
    "### Training the model"
   ]
  },
  {
   "attachments": {},
   "cell_type": "markdown",
   "metadata": {},
   "source": [
    "TO BE CONTINUED - IN PROGRESS"
   ]
  },
  {
   "cell_type": "code",
   "execution_count": null,
   "metadata": {},
   "outputs": [],
   "source": [
    "class SingleNeuron():\n",
    "    \"\"\"\n",
    "    A class for the single neuron model\n",
    "    \"\"\"\n",
    "\n",
    "    def __init__(activation_function, cost_function):\n",
    "        self.activation_function = activation_function\n",
    "        self.cost_function = cost_function\n",
    "    \n",
    "    def train(self, X, y, rate=0.05, iterations=1000):\n",
    "        \"\"\"\n",
    "        Train a logistic regression model\n",
    "\n",
    "        Parameters\n",
    "        ----------\n",
    "        X: matrix of feature values\n",
    "        y: array of observed values\n",
    "        rate (float): learning rate\n",
    "        iterations (int): number of iterations to train the model for\n",
    "\n",
    "        Returns: None\n",
    "        \"\"\"\n",
    "        n_obs, n_features = X.shape\n",
    "        self.rate = rate\n",
    "        self.iterations = iterations\n",
    "        self.train_errors = []\n",
    "\n",
    "        # Initialize coefficients/weights and intercept/bias from a uniform distribution\n",
    "        self.weights = np.random.rand(n_features + 1)\n",
    "        \n",
    "        # Implement stochastic gradient decent\n",
    "        for _ in range(iterations):\n",
    "            total_error = 0\n",
    "            for i in range(0, n_obs):\n",
    "                err = self.predict(X[i,]) - y[i]\n",
    "                self.weights -= rate * err * np.insert(X[i,], 0, 1)\n",
    "                total_error += self.cost_function(self.predict(X[i,]), y[i])\n",
    "            self.train_errors.append(total_error / n_obs)\n",
    "    \n",
    "    def predict(self, x):\n",
    "        x = np.insert(x, 0, 1)\n",
    "        preactivation = np.dot(x, self.weights)\n",
    "        return self.activation_function(preactivation)"
   ]
  },
  {
   "attachments": {},
   "cell_type": "markdown",
   "metadata": {},
   "source": [
    "### Using scikit-learn"
   ]
  },
  {
   "cell_type": "code",
   "execution_count": null,
   "metadata": {},
   "outputs": [],
   "source": []
  }
 ],
 "metadata": {
  "language_info": {
   "name": "python"
  },
  "orig_nbformat": 4
 },
 "nbformat": 4,
 "nbformat_minor": 2
}
