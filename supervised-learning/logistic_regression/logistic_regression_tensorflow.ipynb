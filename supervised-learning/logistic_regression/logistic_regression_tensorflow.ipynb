{
  "cells": [
    {
      "cell_type": "markdown",
      "metadata": {
        "id": "YA0Qn0wxh3kk"
      },
      "source": [
        "# Logistic Regression with Tensorflow\n",
        "\n",
        "\n",
        "In this notebook, I will revisit logistic regression, but implement it using tensorflow.\n",
        "\n",
        "---\n",
        "\n",
        "First, load the relevant libraries needed."
      ]
    },
    {
      "cell_type": "code",
      "execution_count": 1,
      "metadata": {
        "id": "H7UD_5kvZEdF"
      },
      "outputs": [],
      "source": [
        "import matplotlib.pyplot as plt\n",
        "import numpy as np\n",
        "import pandas as pd\n",
        "import seaborn as sns\n",
        "import tensorflow as tf\n",
        "from sklearn.model_selection import train_test_split\n",
        "from sklearn.metrics import classification_report, confusion_matrix\n",
        "\n",
        "# Set the Seaborn theme\n",
        "sns.set_theme()"
      ]
    },
    {
      "cell_type": "markdown",
      "metadata": {
        "id": "lgBZDhzOiIod"
      },
      "source": [
        "## The Data\n",
        "\n",
        "The logistic regression model will be trained using the [Hawks](https://r-data.pmagunia.com/dataset/r-dataset-package-stat2data-hawks) dataset. This dataset contains observations for three species of hawks, and attributes such as age, sex, wing length, body weight, tail length, etc. \n",
        "\n",
        "The code block below reads the dataset into a pandas DataFrame object, subsets the DataFrame to the relevant variables, and drops any rows where there are missing values for these relevant variables."
      ]
    },
    {
      "cell_type": "code",
      "execution_count": 2,
      "metadata": {
        "colab": {
          "base_uri": "https://localhost:8080/",
          "height": 419
        },
        "id": "Rsb2NIPLZq90",
        "outputId": "818465dd-a7fb-43c2-ce5f-e0eba2d2590c"
      },
      "outputs": [
        {
          "data": {
            "text/html": [
              "\n",
              "  <div id=\"df-a8366f19-335b-402a-a06f-eff16bbb863a\">\n",
              "    <div class=\"colab-df-container\">\n",
              "      <div>\n",
              "<style scoped>\n",
              "    .dataframe tbody tr th:only-of-type {\n",
              "        vertical-align: middle;\n",
              "    }\n",
              "\n",
              "    .dataframe tbody tr th {\n",
              "        vertical-align: top;\n",
              "    }\n",
              "\n",
              "    .dataframe thead th {\n",
              "        text-align: right;\n",
              "    }\n",
              "</style>\n",
              "<table border=\"1\" class=\"dataframe\">\n",
              "  <thead>\n",
              "    <tr style=\"text-align: right;\">\n",
              "      <th></th>\n",
              "      <th>Species</th>\n",
              "      <th>Wing</th>\n",
              "      <th>Tail</th>\n",
              "      <th>Weight</th>\n",
              "      <th>Culmen</th>\n",
              "      <th>Hallux</th>\n",
              "    </tr>\n",
              "  </thead>\n",
              "  <tbody>\n",
              "    <tr>\n",
              "      <th>0</th>\n",
              "      <td>RT</td>\n",
              "      <td>385.0</td>\n",
              "      <td>219</td>\n",
              "      <td>920.0</td>\n",
              "      <td>25.7</td>\n",
              "      <td>30.1</td>\n",
              "    </tr>\n",
              "    <tr>\n",
              "      <th>2</th>\n",
              "      <td>RT</td>\n",
              "      <td>381.0</td>\n",
              "      <td>235</td>\n",
              "      <td>990.0</td>\n",
              "      <td>26.7</td>\n",
              "      <td>31.3</td>\n",
              "    </tr>\n",
              "    <tr>\n",
              "      <th>3</th>\n",
              "      <td>CH</td>\n",
              "      <td>265.0</td>\n",
              "      <td>220</td>\n",
              "      <td>470.0</td>\n",
              "      <td>18.7</td>\n",
              "      <td>23.5</td>\n",
              "    </tr>\n",
              "    <tr>\n",
              "      <th>4</th>\n",
              "      <td>SS</td>\n",
              "      <td>205.0</td>\n",
              "      <td>157</td>\n",
              "      <td>170.0</td>\n",
              "      <td>12.5</td>\n",
              "      <td>14.3</td>\n",
              "    </tr>\n",
              "    <tr>\n",
              "      <th>5</th>\n",
              "      <td>RT</td>\n",
              "      <td>412.0</td>\n",
              "      <td>230</td>\n",
              "      <td>1090.0</td>\n",
              "      <td>28.5</td>\n",
              "      <td>32.2</td>\n",
              "    </tr>\n",
              "    <tr>\n",
              "      <th>...</th>\n",
              "      <td>...</td>\n",
              "      <td>...</td>\n",
              "      <td>...</td>\n",
              "      <td>...</td>\n",
              "      <td>...</td>\n",
              "      <td>...</td>\n",
              "    </tr>\n",
              "    <tr>\n",
              "      <th>903</th>\n",
              "      <td>RT</td>\n",
              "      <td>380.0</td>\n",
              "      <td>224</td>\n",
              "      <td>1525.0</td>\n",
              "      <td>26.0</td>\n",
              "      <td>27.6</td>\n",
              "    </tr>\n",
              "    <tr>\n",
              "      <th>904</th>\n",
              "      <td>SS</td>\n",
              "      <td>190.0</td>\n",
              "      <td>150</td>\n",
              "      <td>175.0</td>\n",
              "      <td>12.7</td>\n",
              "      <td>15.4</td>\n",
              "    </tr>\n",
              "    <tr>\n",
              "      <th>905</th>\n",
              "      <td>RT</td>\n",
              "      <td>360.0</td>\n",
              "      <td>211</td>\n",
              "      <td>790.0</td>\n",
              "      <td>21.9</td>\n",
              "      <td>27.6</td>\n",
              "    </tr>\n",
              "    <tr>\n",
              "      <th>906</th>\n",
              "      <td>RT</td>\n",
              "      <td>369.0</td>\n",
              "      <td>207</td>\n",
              "      <td>860.0</td>\n",
              "      <td>25.2</td>\n",
              "      <td>28.0</td>\n",
              "    </tr>\n",
              "    <tr>\n",
              "      <th>907</th>\n",
              "      <td>RT</td>\n",
              "      <td>199.0</td>\n",
              "      <td>222</td>\n",
              "      <td>1290.0</td>\n",
              "      <td>28.7</td>\n",
              "      <td>32.1</td>\n",
              "    </tr>\n",
              "  </tbody>\n",
              "</table>\n",
              "<p>891 rows × 6 columns</p>\n",
              "</div>\n",
              "      <button class=\"colab-df-convert\" onclick=\"convertToInteractive('df-a8366f19-335b-402a-a06f-eff16bbb863a')\"\n",
              "              title=\"Convert this dataframe to an interactive table.\"\n",
              "              style=\"display:none;\">\n",
              "        \n",
              "  <svg xmlns=\"http://www.w3.org/2000/svg\" height=\"24px\"viewBox=\"0 0 24 24\"\n",
              "       width=\"24px\">\n",
              "    <path d=\"M0 0h24v24H0V0z\" fill=\"none\"/>\n",
              "    <path d=\"M18.56 5.44l.94 2.06.94-2.06 2.06-.94-2.06-.94-.94-2.06-.94 2.06-2.06.94zm-11 1L8.5 8.5l.94-2.06 2.06-.94-2.06-.94L8.5 2.5l-.94 2.06-2.06.94zm10 10l.94 2.06.94-2.06 2.06-.94-2.06-.94-.94-2.06-.94 2.06-2.06.94z\"/><path d=\"M17.41 7.96l-1.37-1.37c-.4-.4-.92-.59-1.43-.59-.52 0-1.04.2-1.43.59L10.3 9.45l-7.72 7.72c-.78.78-.78 2.05 0 2.83L4 21.41c.39.39.9.59 1.41.59.51 0 1.02-.2 1.41-.59l7.78-7.78 2.81-2.81c.8-.78.8-2.07 0-2.86zM5.41 20L4 18.59l7.72-7.72 1.47 1.35L5.41 20z\"/>\n",
              "  </svg>\n",
              "      </button>\n",
              "      \n",
              "  <style>\n",
              "    .colab-df-container {\n",
              "      display:flex;\n",
              "      flex-wrap:wrap;\n",
              "      gap: 12px;\n",
              "    }\n",
              "\n",
              "    .colab-df-convert {\n",
              "      background-color: #E8F0FE;\n",
              "      border: none;\n",
              "      border-radius: 50%;\n",
              "      cursor: pointer;\n",
              "      display: none;\n",
              "      fill: #1967D2;\n",
              "      height: 32px;\n",
              "      padding: 0 0 0 0;\n",
              "      width: 32px;\n",
              "    }\n",
              "\n",
              "    .colab-df-convert:hover {\n",
              "      background-color: #E2EBFA;\n",
              "      box-shadow: 0px 1px 2px rgba(60, 64, 67, 0.3), 0px 1px 3px 1px rgba(60, 64, 67, 0.15);\n",
              "      fill: #174EA6;\n",
              "    }\n",
              "\n",
              "    [theme=dark] .colab-df-convert {\n",
              "      background-color: #3B4455;\n",
              "      fill: #D2E3FC;\n",
              "    }\n",
              "\n",
              "    [theme=dark] .colab-df-convert:hover {\n",
              "      background-color: #434B5C;\n",
              "      box-shadow: 0px 1px 3px 1px rgba(0, 0, 0, 0.15);\n",
              "      filter: drop-shadow(0px 1px 2px rgba(0, 0, 0, 0.3));\n",
              "      fill: #FFFFFF;\n",
              "    }\n",
              "  </style>\n",
              "\n",
              "      <script>\n",
              "        const buttonEl =\n",
              "          document.querySelector('#df-a8366f19-335b-402a-a06f-eff16bbb863a button.colab-df-convert');\n",
              "        buttonEl.style.display =\n",
              "          google.colab.kernel.accessAllowed ? 'block' : 'none';\n",
              "\n",
              "        async function convertToInteractive(key) {\n",
              "          const element = document.querySelector('#df-a8366f19-335b-402a-a06f-eff16bbb863a');\n",
              "          const dataTable =\n",
              "            await google.colab.kernel.invokeFunction('convertToInteractive',\n",
              "                                                     [key], {});\n",
              "          if (!dataTable) return;\n",
              "\n",
              "          const docLinkHtml = 'Like what you see? Visit the ' +\n",
              "            '<a target=\"_blank\" href=https://colab.research.google.com/notebooks/data_table.ipynb>data table notebook</a>'\n",
              "            + ' to learn more about interactive tables.';\n",
              "          element.innerHTML = '';\n",
              "          dataTable['output_type'] = 'display_data';\n",
              "          await google.colab.output.renderOutput(dataTable, element);\n",
              "          const docLink = document.createElement('div');\n",
              "          docLink.innerHTML = docLinkHtml;\n",
              "          element.appendChild(docLink);\n",
              "        }\n",
              "      </script>\n",
              "    </div>\n",
              "  </div>\n",
              "  "
            ],
            "text/plain": [
              "    Species   Wing  Tail  Weight  Culmen  Hallux\n",
              "0        RT  385.0   219   920.0    25.7    30.1\n",
              "2        RT  381.0   235   990.0    26.7    31.3\n",
              "3        CH  265.0   220   470.0    18.7    23.5\n",
              "4        SS  205.0   157   170.0    12.5    14.3\n",
              "5        RT  412.0   230  1090.0    28.5    32.2\n",
              "..      ...    ...   ...     ...     ...     ...\n",
              "903      RT  380.0   224  1525.0    26.0    27.6\n",
              "904      SS  190.0   150   175.0    12.7    15.4\n",
              "905      RT  360.0   211   790.0    21.9    27.6\n",
              "906      RT  369.0   207   860.0    25.2    28.0\n",
              "907      RT  199.0   222  1290.0    28.7    32.1\n",
              "\n",
              "[891 rows x 6 columns]"
            ]
          },
          "execution_count": 2,
          "metadata": {},
          "output_type": "execute_result"
        }
      ],
      "source": [
        "# Read in the data and subset it to the relevant columns/observations\n",
        "hawks = pd.read_csv(\"../../Data/hawks.csv\")\n",
        "#hawks = pd.read_csv(\"hawks.csv\")\n",
        "hawks = hawks[[\"Species\", \"Wing\", \"Tail\", \"Weight\", \"Culmen\", \"Hallux\"]].dropna(axis=0)\n",
        "hawks"
      ]
    },
    {
      "cell_type": "markdown",
      "metadata": {
        "id": "t97BT_hPiRCn"
      },
      "source": [
        "The processed data is randomly split into a training and testing set using the traditional 80-20 rule of the Pareto Principle. The parameter `random_state=1` is used to ensure that we get the same observations in the training/testing set as in the Hawks exploratory analysis notebook [here](https://github.com/kary5678/INDE-577/blob/main/Data/hawks_analysis.ipynb). We know from the plots in `hawks_analysis.ipynb` that the split using this `random_state` produces a training set that is a good representation for the data being tested (and vice versa).\n",
        "\n",
        "I will be predicting whether a hawk is red-tailed or not red-tailed using wing and tail length, as that is what I did in my [logistic regression notebook](https://github.com/kary5678/INDE-577/blob/main/supervised-learning/logistic_regression/logistic_regression.ipynb), finding it to be the best model of the ones I fitted. Let's see if I get similar performance using tensorflow."
      ]
    },
    {
      "cell_type": "code",
      "execution_count": 3,
      "metadata": {
        "id": "uhz5Y3Knaf6G"
      },
      "outputs": [],
      "source": [
        "# Set up predictors matrix (X) and response vector (y)\n",
        "X = hawks[[\"Wing\", \"Tail\"]].to_numpy()\n",
        "# Convert each entry of y with RT (red-tailed) to 1 and otherwise 0\n",
        "hawks[\"Species_binary\"] = [1 if x == \"RT\" else 0 for x in hawks.Species]\n",
        "y = hawks[\"Species_binary\"].to_numpy()\n",
        "\n",
        "X_train, X_test, y_train, y_test = train_test_split(X, y, test_size=0.20, random_state=1)"
      ]
    },
    {
      "cell_type": "markdown",
      "metadata": {
        "id": "rJqCNSOsizly"
      },
      "source": [
        "## Using tensorflow\n",
        "\n",
        "The code below creates a logistic regression model using the tensorflow API."
      ]
    },
    {
      "cell_type": "code",
      "execution_count": 4,
      "metadata": {
        "colab": {
          "base_uri": "https://localhost:8080/"
        },
        "id": "9TOUtT_pYsDo",
        "outputId": "c882d2e0-ba6f-4b67-fa22-65e39c046b31"
      },
      "outputs": [
        {
          "name": "stdout",
          "output_type": "stream",
          "text": [
            "Epoch 1/50\n",
            "72/72 [==============================] - 2s 4ms/step - loss: 73.0404 - accuracy: 0.3525\n",
            "Epoch 2/50\n",
            "72/72 [==============================] - 0s 3ms/step - loss: 45.2050 - accuracy: 0.3539\n",
            "Epoch 3/50\n",
            "72/72 [==============================] - 0s 4ms/step - loss: 17.8532 - accuracy: 0.3258\n",
            "Epoch 4/50\n",
            "72/72 [==============================] - 0s 4ms/step - loss: 2.8408 - accuracy: 0.4213\n",
            "Epoch 5/50\n",
            "72/72 [==============================] - 0s 3ms/step - loss: 2.4916 - accuracy: 0.4846\n",
            "Epoch 6/50\n",
            "72/72 [==============================] - 0s 3ms/step - loss: 2.3833 - accuracy: 0.5084\n",
            "Epoch 7/50\n",
            "72/72 [==============================] - 0s 3ms/step - loss: 2.2265 - accuracy: 0.5042\n",
            "Epoch 8/50\n",
            "72/72 [==============================] - 0s 3ms/step - loss: 2.0729 - accuracy: 0.5169\n",
            "Epoch 9/50\n",
            "72/72 [==============================] - 0s 4ms/step - loss: 1.9179 - accuracy: 0.5407\n",
            "Epoch 10/50\n",
            "72/72 [==============================] - 0s 2ms/step - loss: 1.7550 - accuracy: 0.5449\n",
            "Epoch 11/50\n",
            "72/72 [==============================] - 0s 6ms/step - loss: 1.5803 - accuracy: 0.5688\n",
            "Epoch 12/50\n",
            "72/72 [==============================] - 1s 7ms/step - loss: 1.4065 - accuracy: 0.5787\n",
            "Epoch 13/50\n",
            "72/72 [==============================] - 1s 7ms/step - loss: 1.2365 - accuracy: 0.5674\n",
            "Epoch 14/50\n",
            "72/72 [==============================] - 0s 7ms/step - loss: 1.0646 - accuracy: 0.6236\n",
            "Epoch 15/50\n",
            "72/72 [==============================] - 1s 8ms/step - loss: 0.9091 - accuracy: 0.6306\n",
            "Epoch 16/50\n",
            "72/72 [==============================] - 1s 9ms/step - loss: 0.7562 - accuracy: 0.6433\n",
            "Epoch 17/50\n",
            "72/72 [==============================] - 0s 3ms/step - loss: 0.6417 - accuracy: 0.6475\n",
            "Epoch 18/50\n",
            "72/72 [==============================] - 0s 3ms/step - loss: 0.5395 - accuracy: 0.6475\n",
            "Epoch 19/50\n",
            "72/72 [==============================] - 0s 3ms/step - loss: 0.4635 - accuracy: 0.6545\n",
            "Epoch 20/50\n",
            "72/72 [==============================] - 0s 3ms/step - loss: 0.4022 - accuracy: 0.7388\n",
            "Epoch 21/50\n",
            "72/72 [==============================] - 0s 3ms/step - loss: 0.3639 - accuracy: 0.8315\n",
            "Epoch 22/50\n",
            "72/72 [==============================] - 0s 3ms/step - loss: 0.3246 - accuracy: 0.9607\n",
            "Epoch 23/50\n",
            "72/72 [==============================] - 0s 3ms/step - loss: 0.3020 - accuracy: 0.9354\n",
            "Epoch 24/50\n",
            "72/72 [==============================] - 0s 3ms/step - loss: 0.2777 - accuracy: 0.9747\n",
            "Epoch 25/50\n",
            "72/72 [==============================] - 0s 3ms/step - loss: 0.2601 - accuracy: 0.9747\n",
            "Epoch 26/50\n",
            "72/72 [==============================] - 0s 2ms/step - loss: 0.2517 - accuracy: 0.9691\n",
            "Epoch 27/50\n",
            "72/72 [==============================] - 0s 2ms/step - loss: 0.2339 - accuracy: 0.9761\n",
            "Epoch 28/50\n",
            "72/72 [==============================] - 0s 4ms/step - loss: 0.2240 - accuracy: 0.9775\n",
            "Epoch 29/50\n",
            "72/72 [==============================] - 0s 2ms/step - loss: 0.2168 - accuracy: 0.9789\n",
            "Epoch 30/50\n",
            "72/72 [==============================] - 0s 3ms/step - loss: 0.2084 - accuracy: 0.9775\n",
            "Epoch 31/50\n",
            "72/72 [==============================] - 0s 3ms/step - loss: 0.2033 - accuracy: 0.9747\n",
            "Epoch 32/50\n",
            "72/72 [==============================] - 0s 3ms/step - loss: 0.1989 - accuracy: 0.9775\n",
            "Epoch 33/50\n",
            "72/72 [==============================] - 0s 3ms/step - loss: 0.1943 - accuracy: 0.9761\n",
            "Epoch 34/50\n",
            "72/72 [==============================] - 0s 3ms/step - loss: 0.1925 - accuracy: 0.9747\n",
            "Epoch 35/50\n",
            "72/72 [==============================] - 0s 3ms/step - loss: 0.1866 - accuracy: 0.9761\n",
            "Epoch 36/50\n",
            "72/72 [==============================] - 0s 3ms/step - loss: 0.1843 - accuracy: 0.9775\n",
            "Epoch 37/50\n",
            "72/72 [==============================] - 0s 2ms/step - loss: 0.1850 - accuracy: 0.9761\n",
            "Epoch 38/50\n",
            "72/72 [==============================] - 0s 3ms/step - loss: 0.1776 - accuracy: 0.9761\n",
            "Epoch 39/50\n",
            "72/72 [==============================] - 0s 2ms/step - loss: 0.1767 - accuracy: 0.9761\n",
            "Epoch 40/50\n",
            "72/72 [==============================] - 0s 2ms/step - loss: 0.1746 - accuracy: 0.9761\n",
            "Epoch 41/50\n",
            "72/72 [==============================] - 0s 2ms/step - loss: 0.1753 - accuracy: 0.9775\n",
            "Epoch 42/50\n",
            "72/72 [==============================] - 0s 3ms/step - loss: 0.1724 - accuracy: 0.9761\n",
            "Epoch 43/50\n",
            "72/72 [==============================] - 0s 5ms/step - loss: 0.1722 - accuracy: 0.9761\n",
            "Epoch 44/50\n",
            "72/72 [==============================] - 0s 3ms/step - loss: 0.1709 - accuracy: 0.9761\n",
            "Epoch 45/50\n",
            "72/72 [==============================] - 0s 3ms/step - loss: 0.1704 - accuracy: 0.9761\n",
            "Epoch 46/50\n",
            "72/72 [==============================] - 0s 2ms/step - loss: 0.1693 - accuracy: 0.9761\n",
            "Epoch 47/50\n",
            "72/72 [==============================] - 0s 6ms/step - loss: 0.1700 - accuracy: 0.9747\n",
            "Epoch 48/50\n",
            "72/72 [==============================] - 0s 6ms/step - loss: 0.1668 - accuracy: 0.9761\n",
            "Epoch 49/50\n",
            "72/72 [==============================] - 0s 5ms/step - loss: 0.1691 - accuracy: 0.9761\n",
            "Epoch 50/50\n",
            "72/72 [==============================] - 0s 3ms/step - loss: 0.1661 - accuracy: 0.9761\n"
          ]
        }
      ],
      "source": [
        "# Build the logistic regression model\n",
        "model = tf.keras.Sequential([\n",
        "    tf.keras.layers.Input(shape=(X_train.shape[1],)), # input layer with p features\n",
        "    tf.keras.layers.Dense(1, activation='sigmoid')  # single neuron with sigmoid activation function\n",
        "])\n",
        "\n",
        "# Compile the model\n",
        "model.compile(loss='binary_crossentropy', optimizer='adam', metrics=['accuracy'])\n",
        "\n",
        "# Train the model and store the history\n",
        "history = model.fit(X_train, y_train, epochs = 50, batch_size = 10)"
      ]
    },
    {
      "cell_type": "markdown",
      "metadata": {
        "id": "lVHEXrVokgkN"
      },
      "source": [
        "With every epoch, the loss generally decreases while the accuracy increases."
      ]
    },
    {
      "cell_type": "markdown",
      "metadata": {
        "id": "9mqu3DLCi8lv"
      },
      "source": [
        "### Performance/error analysis\n",
        "\n",
        "Let's look at how the model performs, and compare the results to my original logistic regression model."
      ]
    },
    {
      "cell_type": "code",
      "execution_count": 5,
      "metadata": {
        "colab": {
          "base_uri": "https://localhost:8080/",
          "height": 496
        },
        "id": "EiZOOAGGj0iC",
        "outputId": "94f44825-ad8a-40c7-817c-0ac7a629a126"
      },
      "outputs": [
        {
          "data": {
            "image/png": "[encoded data removed]",
            "text/plain": [
              "<Figure size 700x500 with 1 Axes>"
            ]
          },
          "metadata": {},
          "output_type": "display_data"
        }
      ],
      "source": [
        "# Plot the loss curve\n",
        "plt.figure(figsize = (7, 5))\n",
        "plt.plot(history.history['loss'])\n",
        "plt.title('Model Loss')\n",
        "plt.ylabel('Loss')\n",
        "plt.xlabel('Epoch')\n",
        "plt.show()"
      ]
    },
    {
      "cell_type": "markdown",
      "metadata": {
        "id": "k4Pgt3eCk_vl"
      },
      "source": [
        "Loss is minimized rather quickly, I could've trained for fewer epochs. But let's see how this model performs as is."
      ]
    },
    {
      "cell_type": "code",
      "execution_count": 6,
      "metadata": {
        "colab": {
          "base_uri": "https://localhost:8080/"
        },
        "id": "ckHqsNu9jowV",
        "outputId": "f2ae9af6-c5c4-4e3d-987b-7457aef38c26"
      },
      "outputs": [
        {
          "name": "stdout",
          "output_type": "stream",
          "text": [
            "23/23 [==============================] - 0s 2ms/step - loss: 0.1673 - accuracy: 0.9747\n",
            "Train accuracy: 0.9747191071510315\n"
          ]
        }
      ],
      "source": [
        "train_loss, train_accuracy = model.evaluate(X_train, y_train)\n",
        "print('Train accuracy:', train_accuracy)"
      ]
    },
    {
      "cell_type": "markdown",
      "metadata": {
        "id": "iU3knGsPkIA5"
      },
      "source": [
        "Training and testing accuracy are similar to what I had originally."
      ]
    },
    {
      "cell_type": "code",
      "execution_count": 7,
      "metadata": {
        "colab": {
          "base_uri": "https://localhost:8080/"
        },
        "id": "dGHgamxHcbql",
        "outputId": "8c2f37d5-671b-4dd3-9652-446d96ab4931"
      },
      "outputs": [
        {
          "name": "stdout",
          "output_type": "stream",
          "text": [
            "6/6 [==============================] - 0s 8ms/step - loss: 0.0936 - accuracy: 0.9888\n",
            "Test accuracy: 0.9888268113136292\n"
          ]
        }
      ],
      "source": [
        "test_loss, test_accuracy = model.evaluate(X_test, y_test)\n",
        "print('Test accuracy:', test_accuracy)"
      ]
    },
    {
      "cell_type": "markdown",
      "metadata": {
        "id": "L-8tfVokkN9R"
      },
      "source": [
        "In the output below, the array with two values correspond to the feature weights, while the array with a single value corresponds to the bias term. These weights are slightly different than what I originally got, especially the bias term."
      ]
    },
    {
      "cell_type": "code",
      "execution_count": 8,
      "metadata": {
        "colab": {
          "base_uri": "https://localhost:8080/"
        },
        "id": "yughM8KCbkcM",
        "outputId": "0199f9c4-1a23-4454-f447-666e6eadf18a"
      },
      "outputs": [
        {
          "name": "stdout",
          "output_type": "stream",
          "text": [
            "[array([[ 0.06112023],\n",
            "       [-0.08734637]], dtype=float32), array([-0.5722661], dtype=float32)]\n"
          ]
        }
      ],
      "source": [
        "# Obtain weights of each layer in the model\n",
        "print(model.get_weights())"
      ]
    },
    {
      "cell_type": "markdown",
      "metadata": {
        "id": "bvqEyCihjIjL"
      },
      "source": [
        "Now, let's obtain predictions on the test data to evaluate performance, comparing metrics to the original logistic regression model."
      ]
    },
    {
      "cell_type": "code",
      "execution_count": 9,
      "metadata": {
        "colab": {
          "base_uri": "https://localhost:8080/"
        },
        "id": "K1Vlnq_jb3Ds",
        "outputId": "f4fd7d44-3b4a-4b18-812b-905f54df2991"
      },
      "outputs": [
        {
          "name": "stdout",
          "output_type": "stream",
          "text": [
            "6/6 [==============================] - 0s 2ms/step\n"
          ]
        }
      ],
      "source": [
        "# Obtain predicted classes based on probabilities generated by model\n",
        "predictions = np.where(model.predict(X_test) >= 0.5, 1, 0)"
      ]
    },
    {
      "cell_type": "code",
      "execution_count": 10,
      "metadata": {
        "colab": {
          "base_uri": "https://localhost:8080/"
        },
        "id": "9oBtF0OudZiU",
        "outputId": "41a754ae-a55d-4513-fd6d-b42859dc09b5"
      },
      "outputs": [
        {
          "name": "stdout",
          "output_type": "stream",
          "text": [
            "              precision    recall  f1-score   support\n",
            "\n",
            "           0       1.00      0.97      0.99        73\n",
            "           1       0.98      1.00      0.99       106\n",
            "\n",
            "    accuracy                           0.99       179\n",
            "   macro avg       0.99      0.99      0.99       179\n",
            "weighted avg       0.99      0.99      0.99       179\n",
            "\n"
          ]
        }
      ],
      "source": [
        "print(classification_report(y_test, predictions))"
      ]
    },
    {
      "cell_type": "markdown",
      "metadata": {
        "id": "NT4a6nOBjQEd"
      },
      "source": [
        "Based on the classification report, this logistic regression model performs well. There is high accuracy, precision, and recall overall. Referencing my original logistic regression notebook, the metrics are the same across the board.\n",
        "\n",
        "We can also look at the confusion matrix."
      ]
    },
    {
      "cell_type": "code",
      "execution_count": 11,
      "metadata": {
        "id": "aQ1kVB2xc7Ar"
      },
      "outputs": [],
      "source": [
        "def plot_RT_confusion_matrix(y_actual, y_pred):\n",
        "    \"\"\"\n",
        "    Plots the confusion matrix given the actual and predicted values\n",
        "    to easily view accurate classifications and type I/II errors\n",
        "    \"\"\"             \n",
        "    classes = [1, 0] # want to invert the order of the classes in outputted matrix\n",
        "    # Obtain confusion matrix\n",
        "    cf_matrix = confusion_matrix(y_actual, y_pred, labels=[1, 0])\n",
        "\n",
        "    # View the confusion matrix using the seaborn package\n",
        "    plt.figure(figsize = (6, 4))\n",
        "    ax = sns.heatmap(cf_matrix, annot=True, cmap='Blues', fmt='g')\n",
        "    ax.set_title('Hawk Species Classification Confusion Matrix\\n', fontsize = 14)\n",
        "    ax.set_xlabel('\\nPredicted Values', fontsize = 12)\n",
        "    ax.set_ylabel('Actual Values ', fontsize = 12)\n",
        "    ax.xaxis.set_ticklabels([\"RT\", \"Not RT\"])\n",
        "    ax.yaxis.set_ticklabels([\"RT\", \"Not RT\"])"
      ]
    },
    {
      "cell_type": "code",
      "execution_count": 12,
      "metadata": {
        "colab": {
          "base_uri": "https://localhost:8080/",
          "height": 462
        },
        "id": "OpsUOUkgc9C1",
        "outputId": "12a442d3-5f28-494b-9be9-84de417831ae"
      },
      "outputs": [
        {
          "data": {
            "image/png": "[encoded data removed]",
            "text/plain": [
              "<Figure size 600x400 with 2 Axes>"
            ]
          },
          "metadata": {},
          "output_type": "display_data"
        }
      ],
      "source": [
        "plot_RT_confusion_matrix(y_test, predictions)\n",
        "plt.show()"
      ]
    },
    {
      "cell_type": "markdown",
      "metadata": {
        "id": "rR4dej4Mkqfh"
      },
      "source": [
        "I get the same confusion matrix as my logistic regression notebook!"
      ]
    }
  ],
  "metadata": {
    "colab": {
      "provenance": []
    },
    "kernelspec": {
      "display_name": "Python 3",
      "name": "python3"
    },
    "language_info": {
      "name": "python",
      "version": "3.9.13"
    }
  },
  "nbformat": 4,
  "nbformat_minor": 0
}
